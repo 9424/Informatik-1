{
 "cells": [
  {
   "cell_type": "markdown",
   "metadata": {},
   "source": [
    "# 3. Kapitel: Elementare Datentypen (inkl. deren Binärrepräsentation), Typwandlungen sowie Ganz- und Gleitkommaarithmetik\n",
    "\n",
    "Wir haben es bisher vermieden, direkt sogenannte *(Daten-)Typen* zu diskutieren. Der „*Typ*“ ist die Klassenzugehörigkeit eines konkreten Objektes, mit dem eine Variable verbunden ist. Dies beeinflusst, wie ein Computer das Objekt im Speicher ablegt und wie Operationen wie beispielsweise Multiplikation und Division durchgeführt werden.\n",
    "\n",
    "In sogenannten *statisch typisierten* Programmiersprachen, wie beispielsweise C und C++, wird die Typisierung von Variablen bereits zur Programmierzeit festgelegt, weil die Programmierenden diese in der Regel in Ihren Programmen explizit bei jeder Variablenerstellung spezifizieren müssen. Python hingegen ist eine *dynamisch typisierte* Programmiersprache, d. h. die Datentypen werden bei der Ausführung eines Programmes aus den Anweisungen selbst abgeleitet. Deshalb konnten wir die Diskussion von Datentypen bis jetzt verschieben. Es ist wichtig, ein grundlegendes Verständnis von Datentypen zu haben und wie die Datentypen der Objekte (wie z. B. Variablen oder Konstanten) das Verhalten Ihrer Programme beeinflussen. Man kann sehr tief in dieses Thema einsteigen, insbesondere für numerische Berechnungen, aber wir werden das allgemeine Konzept von einem recht hohen Standpunkt aus studieren, \n",
    "betrachten einige Beispiele und zeigen einige potenzielle Fallstricke für technische Berechnungen auf. \n",
    "\n",
    "Bei Datentypen handelt es sich um ein recht trockenes Thema - es handelt sich jedoch um wichtige Hintergrundinformationen, die Sie für später wissen müssen, um in der Praxis ingenieursmäßig Programme entwickeln zu können, also bleiben Sie dran. Der folgende Bericht zeigt, was ohne Kenntnis von Datentypen schief gehen kann und wie Computer Zahlen intern verarbeiten."
   ]
  },
  {
   "cell_type": "markdown",
   "metadata": {},
   "source": [
    "## Das Versagen der Patriot-Raketenabwehrbatterie und die Explosion der Ariane 5 Rakete\n",
    "\n",
    "Es gab in der Vergangenheit schon zahlreiche Unfälle aufgrund von fehlerhaften Programmen, die Typen, Typkonvertierungen und Fließkomma-Arithmetik nicht korrekt behandelt haben. Hier sind drei Beispiele: \n",
    "\n",
    "1. Im Jahr 1991 gelang es einer US-Patriot-Rakete nicht, eine irakische Scud-Rakete bei Dhahran in Saudi-Arabien abzufangen, was zu dem Verlust von Menschenleben führte. Die anschließende Untersuchung ergab, dass die Patriot-Rakete die Scud-Rakete aufgrund eines Softwarefehlers nicht abfangen konnte. Die Software-Entwickler hatten die Auswirkungen der Gleitkommaarithmetik in Ihrem Computerprogramm nicht berücksichtigt. Dies führte zu einem kleinen Fehler bei der Berechnung der Zeit, was wiederum dazu führte, dass die Patriot-Rakete die eingehende Scud-Rakete verfehlte. \n",
    "\n",
    "   <img src=\"https://upload.wikimedia.org/wikipedia/commons/e/eb/Patriot_System_2.jpg\" width=\"300\" />\n",
    "\n",
    "   Wir werden genau den Programmierfehler reproduzieren, den die Software-Entwickler der Patriot-Raktetenabfang-Software gemacht haben. Siehe\n",
    "   https://en.wikipedia.org/wiki/MIM-104_Patriot#Failure_at_Dhahran für mehr Hintergrundinformationen über den Abfangfehler der Patriot-Raketenabwehrbatterie.\n",
    "   \n",
    "\n",
    "2. Schlechte Programmierung in Bezug auf die Art und Weise, wie Computer Zahlen speichern, führte 1996 zu einem Steuerungsversagen einer unbemanntem *Ariane 5* Rakete der Europäischen Weltraumbehörde, die kurz nach dem Start explodierte. Die durch die Explosion zerstörte Nutzlast hatte einen Wert von 500 Mio. US\\$. Hintergrundinformationen zu dem Unglück finden Sie unter https://en.wikipedia.org/wiki/Cluster_(spacecraft)#Launch_failure. \n",
    "   Wir werden den Fehler reproduzieren und zeigen, wie über 500 Mio. US\\$ mit ein paar Zeilen Code hätten gerettet werden können.  \n",
    "   \n",
    "   <img src=\"https://upload.wikimedia.org/wikipedia/commons/thumb/3/3c/Ariane_5ES_with_ATV_4_on_its_way_to_ELA-3.jpg/320px-Ariane_5ES_with_ATV_4_on_its_way_to_ELA-3.jpg\" width=\"200\" />\n",
    "   \n",
    "3. Ein Funktionsfehler im Linearbeschleuniger *Therac-25* ist ein weiteres Beispiel für einen derartigen Software-Fehler in einem klinisch eingesetzten Medizinprodukt, der sechs Menschen schwer verletzte und drei von ihnen das Leben kostete, siehe https://de.wikipedia.org/wiki/Therac-25."
   ]
  },
  {
   "cell_type": "markdown",
   "metadata": {},
   "source": [
    "## Hintergrundinformation: Bits und Bytes\n",
    "\n",
    "Ein wichtiger Anteil am kompetenten Umgang mit Datentypen kommt dem Verständnis deren binärer Repräsenation in Computerspeichern zu. Der Computerspeicher besteht aus *Bits*, und jedes Bit kann eines von zwei Zustandswerten annehmen: 0 oder 1. Ein Bit ist der kleinste Baustein des Speichers in einem Digitalrechner. Bits sind sehr feingliedrig, so dass für viele Computerarchitekturen der kleinste „Block“, mit dem wir normalerweise arbeiten können, ein *Byte* ist. Ein Byte besteht aus 8 Bits. Wenn wir über Bits sprechen, z. B. bei einem 64-Bit-Betriebssystem, wird die Anzahl der Bits fast immer ein Vielfaches von 8 (ein Byte) sein.\n",
    "\n",
    "Je „größer“ ein Objekt ist, das wir speichern wollen, desto mehr Bytes brauchen wir dafür. Dies ist auch wichtig für technische Berechnungen, da die Anzahl der Bytes, die zum Speichern einer Zahl verwendet werden, die Genauigkeit bestimmt, mit der die Zahl gespeichert werden kann, und wie groß oder klein die Zahl sein kann. Je mehr Bytes, desto größer die Genauigkeit, aber der Preis dafür ist eine höhere Speichernutzung. Auch kann es zeit- und energieaufwendiger sein, Operationen wie Multiplikation und Division durchzuführen, wenn mehr Bytes verwendet werden."
   ]
  },
  {
   "cell_type": "markdown",
   "metadata": {},
   "source": [
    "## Lernziele\n",
    "\n",
    "- Elementare Datentypen in Python (für boolesche Werte, Zeichenketten und Ganz- und Kommazahlen) kennen, verstehen und in eigenen Programmen anwenden können\n",
    "- Den Datentyp eines Python-Objektes (wie einer Konstante oder Variable) untersuchen können\n",
    "- Grundlegende Typumwandlungen der elementaren Datentypen verstehen und durchführen können\n",
    "- Limitationen und Fallstricke der Gleitkommaarithmetik-Datentypen kennen, verstehen und in eigenen Programmen handhaben können"
   ]
  },
  {
   "cell_type": "markdown",
   "metadata": {},
   "source": [
    "# Was ist ein Datentyp?\n",
    "\n",
    "Alle Konstanten und Variablen haben einen „(Daten-)Typ“, der die Klassenzugehörigkeit einer konkreten Konstante oder konkreten Variable anzeigt, z. B. als ein Exemplar (= *Objekt* bzw. *Instanz*) einer Zahl oder Zeichenkette. In „statisch typisierten“ Programmiersprachen müssen wir normalerweise den Datentyp einer Variablen in einem Programm explizit angeben (d. h. festlegen bzw. „deklarieren“). In einer dynamisch typisierten Sprache, wie Python, haben Variablen immer noch Typen, aber der Interpreter kann Typen einer Variablen dynamisch (d. h. erst zur Laufzeit eines Programmes) bestimmen und ggf. ändern.\n",
    "\n",
    "Der Typ ist wichtig, weil er bestimmt, wie eine Variable gespeichert wird, wie sie sich bei der Durchführung von Operationen auf ihr verhält und wie sie mit anderen Variablen interagiert. So unterscheidet sich beispielsweise die Multiplikation zweier reeller Zahlen von der Multiplikation zweier komplexer Zahlen."
   ]
  },
  {
   "cell_type": "markdown",
   "metadata": {},
   "source": [
    "# Typidentifikation (auch bez. als „Introspektion“):  Abfrage des aktuellen Datentyps einer Variablen zur Laufzeit eines Programmes\n",
    "\n",
    "Bevor wir uns ausführlicher dem Studium von Datentypen widmen, betrachten wir, wie wir den Typ einer Variablen in Python prüfen können. Eine wirkungsmächtige Funktionalität von Python dafür ist die sog. *Introspektion*. Das bedeutet, dass wir den aktuellen Datentyp einer Variablen zur Laufzeit eines Python-Programmes abfragen können. Um den Typ einer Variablen abzufragen, verwenden wir die in Python eingebaute Funktion `type`:"
   ]
  },
  {
   "cell_type": "code",
   "execution_count": null,
   "metadata": {},
   "outputs": [],
   "source": [
    "x = True\n",
    "print(type(x))\n",
    "\n",
    "a = 1\n",
    "print(type(a))\n",
    "\n",
    "a = 1.0\n",
    "print(type(a))"
   ]
  },
  {
   "cell_type": "markdown",
   "metadata": {},
   "source": [
    "Beachten Sie, dass `a = 1` und `a = 1.0` unterschiedliche Datentypen besitzen! Diese Unterscheidung ist sehr wichtig für numerische Berechnungen. Näheres dazu wird nachfolgend noch erläutert.\n",
    "\n",
    "Verwenden Sie die Funktion `type` freigiebig, um zu studieren (hier „zu erforschen und zu prüfen“) bzw. um v. a. langfristig ein solides Verständnis dafür zu entwickeln, was ein Python-Programm tatsächlich macht."
   ]
  },
  {
   "cell_type": "markdown",
   "metadata": {},
   "source": [
    "# Der boolesche Datentyp\n",
    "Der sog. *booleschen Datentyp* (benannt nach [George Boole](https://de.wikipedia.org/wiki/George_Boole)) ist uns bereits in Kapitel 2 begegnet. Mit diesem Datentyp kann nur genau einer der beiden Wahrheitswerte *wahr* (Schlüsselwort `True`) oder *falsch* (Schlüsselwort `False`) repräsentiert werden. Es handelt sich hierbei um den einfachsten bzw. den für die Informatik grundlegensten Datentyp. In Python wird er verkürzt als `bool` bezeichnet. "
   ]
  },
  {
   "cell_type": "code",
   "execution_count": null,
   "metadata": {},
   "outputs": [],
   "source": [
    "a = True\n",
    "b = False\n",
    "test = a or b  # test will be True if a or b are True\n",
    "print(test, type(test))"
   ]
  },
  {
   "cell_type": "markdown",
   "metadata": {},
   "source": [
    "Prinzipiell könnten wir einen booleschen Wahrheitswert technisch mit nur einem Bit speichern (0 oder 1)."
   ]
  },
  {
   "cell_type": "markdown",
   "metadata": {},
   "source": [
    "# Zeichenketten („Strings“)\n",
    "\n",
    "Eine Zeichenkette in Python 3 ist eine Folge von (Unicode)-Einzelzeichen (engl. *string of characters* oder kurz „*string*“, noch kürzerer in Python als Datentyp `str` bezeichnet). In vorausgegangenen Aktivitäten haben wir Zeichenketten zur Ausgabe von informativen Nachrichten auf der Konsole mittels der `print`-Funktion verwendet. In Python können wir Zeichenketten durch Umschließung der gewünschten Zeichen mittels (gerader, nicht typographischer!) einfacher oder doppelter Anführungszeichen erstellen (die Wahl bleibt Ihrem persönlichen Vorlieben überlassen), z. B.\n",
    "\n",
    "    meine_zeichenkette = 'Dies ist eine Zeichenkette.'\n",
    "    \n",
    "oder\n",
    "\n",
    "    meine_zeichenkette = \"Dies ist eine Zeichenkette.\"\n",
    "    \n",
    "Nachfolgend weisen wir eine Zeichenkette an einer Variable zu, geben den Inhalt der Variablen auf der Konsole aus und prüfen den Typ der Variablen:"
   ]
  },
  {
   "cell_type": "code",
   "execution_count": null,
   "metadata": {},
   "outputs": [],
   "source": [
    "meine_zeichenkette = \"Dies ist eine Zeichenkette.\"\n",
    "print(meine_zeichenkette)\n",
    "print(type(meine_zeichenkette))"
   ]
  },
  {
   "cell_type": "markdown",
   "metadata": {},
   "source": [
    "Wir können eine Vielzahl unterschiedlicher Operationen mit Zeichenketten durchführen. Beispielsweise können wir aus einer Zeichenketten das Zeichen, das an einer spezifizierten Zeichenkettenposition steht, als neue Zeichenkette extrahieren:"
   ]
  },
  {
   "cell_type": "code",
   "execution_count": null,
   "metadata": {},
   "outputs": [],
   "source": [
    "uses# Erstelle eine Kopie des dritten Zeichens (Python beginnt mit dem Zählen bei Null)\n",
    "s2 = meine_zeichenkette[2]\n",
    "print(s2)\n",
    "print(type(s2))"
   ]
  },
  {
   "cell_type": "markdown",
   "metadata": {},
   "source": [
    "oder wir können eine Spanne an Zeichen (eine Unterzeichenkette) als Kopie aus der Zeichenkette extrahieren:"
   ]
  },
  {
   "cell_type": "code",
   "execution_count": null,
   "metadata": {},
   "outputs": [],
   "source": [
    "# Erstelle eine Kopie der ersten sechs Zeichen, drucke diese und prüfe den Datentyp\n",
    "s3 = meine_zeichenkette[0:6]\n",
    "print(s3)\n",
    "print(type(s3))\n",
    "\n",
    "# Erstelle eine Kopie der letzten vier Zeichen und gebe diese auf der Konsole aus\n",
    "s4 = meine_zeichenkette[-4:]\n",
    "print(s4)"
   ]
  },
  {
   "cell_type": "markdown",
   "metadata": {},
   "source": [
    "Wir können mehrere Zeichenketten aneinanderfügen (engl. *concatenation of strings*):"
   ]
  },
  {
   "cell_type": "code",
   "execution_count": null,
   "metadata": {},
   "outputs": [],
   "source": [
    "einleitung = \"Mein Name ist:\"\n",
    "name = \"Martina\"\n",
    "\n",
    "persoenliche_einleitung = einleitung + \" \" + name\n",
    "print(persoenliche_einleitung)"
   ]
  },
  {
   "cell_type": "markdown",
   "metadata": {},
   "source": [
    "Auch können wir die „Länge“ (d. h. die Anzahl der Zeichen) einer Zeichenkette mit der eingebauten Python-Funktion `len` ermitteln:"
   ]
  },
  {
   "cell_type": "code",
   "execution_count": null,
   "metadata": {},
   "outputs": [],
   "source": [
    "print(len(persoenliche_einleitung))"
   ]
  },
  {
   "cell_type": "markdown",
   "metadata": {},
   "source": [
    "Es gibt *viele* weitere Operationen, die wir mit Zeichenketten durchführen können. Wir werden weitere davon in spätern Aktivitäten noch kennen lernen."
   ]
  },
  {
   "cell_type": "markdown",
   "metadata": {
    "collapsed": true
   },
   "source": [
    "# Numerische Datentypen (zur Darstellung von Zahlen)\n",
    "\n",
    "Numerische Datentypen sind essentiell in vielen Digitalrechneranwendungen, insbesondere in wisschenschaftlicher und technischer Software. Python 3 stellt drei eingebaute numerische Datentypen zur Verfüfung:\n",
    "\n",
    "- Ganzzahl (engl. *integer*, Datentypname in Python: `int`)\n",
    "- Gleitkommazahl (engl. *floating point number*, Datentypname in Python: `float`)\n",
    "- Komplexe Zahl (engl. *complex number*, Datentypname in Python: `complex`)\n",
    "\n",
    "Dies ist häufig auch so in anderen Programmiersprachen, auch wenn es jeweils subtile Unterschiede zwischen den einzelnen Programmiersprachen geben kann."
   ]
  },
  {
   "cell_type": "markdown",
   "metadata": {},
   "source": [
    "## Ganzzahlen (engl. *integers*)\n",
    "\n",
    "Ganzzahlen (Python-Datentyp `int`) sind vorzeichenbehaftete ganze Zahlen und können daher sowohl positive als auch negative Ganzzahlen (engl. *integers*) darstellen. Ganzzahlen sollten verwendet werden, wenn eine Python-Ausdruck nur ganzzahlige (d. h. „ungebrochene“) Werte annehmen kann, z. B. bei Jahreszahlen oder der Anzahl der Studierenden, die diesen Programmierkurs belegen. Python schließt auf den Datentyp eines numerischen Wertes aus der grammatikalischen Form (der sog. Syntax), wie wir diesen eingeben. Der Schluss lautet Datentyp `int`, wenn wir eine vorzeichenbehaftete Ganzzahl ohne Dezimalpunkt eingben:"
   ]
  },
  {
   "cell_type": "code",
   "execution_count": null,
   "metadata": {},
   "outputs": [],
   "source": [
    "a = 2\n",
    "print(type(a))"
   ]
  },
  {
   "cell_type": "markdown",
   "metadata": {},
   "source": [
    "Wenn wir einen Deizimalpunkt hinzufügen, erhält die Variable den Datentyp `float` für eine sog. Gleitkommazahl (mehr dazu später):"
   ]
  },
  {
   "cell_type": "code",
   "execution_count": null,
   "metadata": {},
   "outputs": [],
   "source": [
    "a = 2.0\n",
    "print(type(a))"
   ]
  },
  {
   "cell_type": "markdown",
   "metadata": {},
   "source": [
    "Ganzzahloperationen haben wieder eine Ganzzahl als Ergebnis, beispielsweise die Addition oder Multiplikation zweier ganzer Zahlen werden exakt durchgeführt (es gibt keinen Fehler). Dies ist jedoch abhängig davon, dass es für die Variable genügend Speicher gibt (d. h. eine ausreichende Anzahl von Bytes), um das Ergebnis darzustellen bzw. zu speichern."
   ]
  },
  {
   "cell_type": "markdown",
   "metadata": {},
   "source": [
    "### Darstellung von Ganzzahlen im Digitalrechner und Unterschreitung („Unterlauf“, engl. *underflow*) bzw. Überschreitung („Überlauf“, engl. *overflow*) des darstellbaren Ganzzahlenbereiches\n",
    "\n",
    "In den meisten Programmiersprachen ist eine feste Anzahl von Bits festgelegt, um einen gegebenen Ganzzahldatentyp darzustellen und im Digitalrechner zu verarbeiten und zu speichern. In den Programmiersprachen C and C++ wird eine Standardganzzahl (dort als Datentyp `int` bezeichnet) oftmals mit 32 Bit gespeichert, wobei es in diesen beiden Programmiersprachen auch Ganzzahldatentypen mit weniger oder mehr Bit pro Ganzzahldarstellung zur Auswahl stehen. \n",
    "Die größte mit 32 Bit darstellbare (vorzeichenbehaftete) Ganzzahl ist $2^{31} - 1 = 2147483647$.\n",
    "Wir werden später erklären, woher das kommt. Die bislang wichtige Botschaft ist, dass es bei einer festen Anzahl von Bit pro Ganzzahldarstellung eine größte Ganzzahl gibt, die gerade noch im Digitalrechner dargestellt, verarbeitet und gespeichert werden kann.\n",
    "\n",
    "####  Ganzzahlüberlauf (bzw. Überlauf des Ganzzahlwertebereiches, engl. *integer overflow*)\n",
    "\n",
    "Ein sogenannter Ganzzahlüberlauf (engl. *integer overflow*) tritt auf, wenn eine arithmetische Ganzzahloperation eine Ganzzahl als Resultat hat, die zu groß ist, um von einem gegebenen Ganzzahldatentypen mit fester Bit-Anzahl dargestellt zu werden. Beispielsweise wird der Zuweisungsversuch von $2^{31} + 1$ an eine Ganzzahlvariable mit 32 Bit einen Überlauf zur Folge haben mit potenziell unvorhersehbarem weiteren Programmverlauf. Dies wäre typischer Weise als ein sog. [Programmier- oder Softwarefehler](https://de.wikipedia.org/wiki/Programmfehler) (engl. *mistake*, *semantic error* bzw. als ein sogenannter „*bug*“) anzusehen.\n",
    "\n",
    "Die Explosion der Ariane 5 Rakete im Jahr 1996 wurde durch einen Ganzzahlüberlauf verursacht. Die Navigatíonssoftware der Rakete wurde von einer älteren, langsameren Ariane 4 Rakete übernommen. Die Navigationssoftware wieß die Raketengeschwindigkeit einer 16-Bit Ganzzahlvariablen zu (die größte mit 16 Bit darstellbare vorzeichenbehaftete Ganzzahl ist $2^{15} - 1 = 32767$), aber die Ariane 5 konnte schneller fliegen als das alte Raketengeneration und der Geschwindigkeitswert überschritt $32767$. Der resultierende Ganzzahlüberlauf führte zu einer Fehlfunktion des Navigationssystems der Rakete, die deren Explosion zur Folge hatte; eine sehr teuere Rakete mit einer sehr teueren Nutzlast wurden dadurch zerstört. Wir werden den Fehler reproduzieren, der zum Versagen des Navigationsystems führte, wenn wir die sogenannten Datentypkonvertierungen (engl *type conversions*) studieren.\n",
    "\n",
    "Python 3 vermeidet Ganzzahlüberläufe, indem es „dynamisch“ (d. h. zur Laufzeit eines Python-Programmes) die Anzahl der Bit anpasst, die zur Darstellung einer gegebenen Ganzzahl benötigt werden. Wir können die Anzahl der erforderlichen Bit zur Darstellung einer Gannzahlvariable in Python 3 inspizieren (ausschließlich eines weiteren Bit, das noch zur Darstellung des Vorzeichens der Ganzzahl benötigt wird) mit Hilfe der Python-Funktion [bit_length](https://docs.python.org/3/library/stdtypes.html#int.bit_length):"
   ]
  },
  {
   "cell_type": "code",
   "execution_count": null,
   "metadata": {},
   "outputs": [],
   "source": [
    "a = 8\n",
    "print(type(a))\n",
    "print(a.bit_length())"
   ]
  },
  {
   "cell_type": "markdown",
   "metadata": {},
   "source": [
    "Wir sehen, dass 4 Bit erforderlich sind, um die Dezimalzahl 8 binär darzustellen. Wenn wir die Größe der Dezimalzahl wesentlich erhöhen, indem wir sie in die zwölfte Potenz erheben:"
   ]
  },
  {
   "cell_type": "code",
   "execution_count": null,
   "metadata": {},
   "outputs": [],
   "source": [
    "b = a**12\n",
    "print(b)\n",
    "type(b)\n",
    "print(b.bit_length())"
   ]
  },
  {
   "cell_type": "markdown",
   "metadata": {},
   "source": [
    "Wir sehen, dass nun 37 Bit erforderlich sind, um diese sehr viel größere Dezimalzahl binär darzustellen. Wenn der Datentyp `int` auf 32 Bit zur binären Darstellung von dezimalen Ganzzahlwerten beschränkt wird, dann hätte diese Potenzierungsoperation einen Ganzzahlüberlauf verursacht."
   ]
  },
  {
   "cell_type": "markdown",
   "metadata": {},
   "source": [
    "#### Gangnam Style\n",
    "\n",
    "Im Jahr 2014 wechselte Youtube von einer 32-Bit Ganzzahldarstellung auf eine 64-Bit Ganzzahldarstellung, weil das Video „Gangnam Style“ mehr als 2147483647 mal angeschaut worden war, was die größte (vorzeichenbehaftete) Ganzzahl ist, die noch mit 32 Bit binär dargestellt werden kann (siehe https://plus.google.com/+YouTube/posts/BUXfdWqu86Q)."
   ]
  },
  {
   "cell_type": "markdown",
   "metadata": {},
   "source": [
    "#### Boeing 787 Dreamliner „Bug“\n",
    "\n",
    "Im Jahr 2015 konnten sich die Elektrizitätsgeneratoren des Passagierflugzeugmodells 787 „Dreamliner“ der Firma Boeing aufgrund eines Ganzzahlüberlaufes fälschlicher Weise ausschalten, wenn die Generatoren 248 Tage ununterbrochen liefen. Als kurzfristige Lösung dieses Problemes (engl. ein sog. *quick fix*), solange noch keine entsprechende Softwareaktualisierung des Flugzughersteller zur Behebung des Fehlers verfügbar war, wurde von der Aufsichtsbehörde für den Flugverkehr „Federal Aviation Administration“ (FAA) und der Firma Boeing eine Warnung und Handlungsdirektive herausgegeben, um sicher zu stellen, dass die Elektrizitätsgeneratoren dieses Flugzeugtyps nicht länger als 248 Tage am Stück liefen.\n",
    "Siehe https://www.spiegel.de/wissenschaft/technik/boeing-787-faa-warnt-vor-stromausfall-im-dreamliner-a-1031728.html und \n",
    "https://s3.amazonaws.com/public-inspection.federalregister.gov/2015-10066.pdf für den Hintergrund."
   ]
  },
  {
   "cell_type": "markdown",
   "metadata": {},
   "source": [
    "##  Gleitkommadarstellung von Kommazahlen (engl. *floating point number representation*)\n",
    "\n",
    "Die meisten technischen und wisschenschaftlichen Berechnungen basieren auf Zahlen, die nicht als (ungebrochene bzw. „integre“) ganze Zahlen (vom Datentyp `int`) dargestellt werden können. (Gebrochene) dezimale Kommazahlen, die grammatikalisch in Python durch einen Dezimalpunkt anstelle des im deutschen Sprachraum üblichen Dezimalkommas notiert werden, repräsentiert, verarbeitet und speichert Python mit Hilfe des Datentyps `float`. Ein Digitalrechner stellt eine [Gleitkommazahl](https://de.wikipedia.org/wiki/Gleitkommazahl) mittels eines Vorzeichens, einer Mantisse und einem Exponenten dar, beispielsweise für die dezimale Kommazahl $\\text{10,45}$\n",
    "\n",
    "$$\n",
    "\\text{10,45} = \\underbrace{+}_{\\text{Vorzeichen}} \\underbrace{1045}_{\\text{Mantisse}} \\cdot \\underbrace{10^{-2}}_{\\text{Exponent zur Basis 10 ist} -2}\n",
    "$$\n",
    "\n",
    "Python verwendet 64 Bit, um eine Gleitkommazahl vom Datentyp `float` darzustellen. In den Programmiersprachen, C / C++, C# und Java trägt dieser Datentyp die Bezeichnung `double`. Für das Vorzeichen der Kommazahl wird ein Bit benötigt, und es gibt einen im wisschenschaftlichen Rechnen verbreiteten Standard [IEEE 754](https://de.wikipedia.org/wiki/IEEE_754), der spezifiziert, wieviele Bit für die Mantisse und den Exponenten einer Gleitkommazahlendarstellung zu verwenden sind.\n",
    "\n",
    "Die Genauigkeit bzw. die sog. „Präzision“, mit der dezimale Kommazahlen in einem Digitalrechner dargestellt, gespeichert und verarbeitet werden können, ist beschränkt, weil eine endliche Anzahl von Bit für die Darstellung als Gleitkommazahl im Digitalrechner verwendet werden muss. Als Richtwert dürfen wir bei einem 64 Bit Gleitkommazahlenformat nach IEEE 754 Standard von mindestens 15 bis maximal 17 bedeutungstragenden (d. h. exakten) dezimalen Nachkommastellen ausgehen. Mehr dazu und weshalb die Patriot-Raketenabwehrbatterie durch einen Gleitkommazahlenfehler in ihrer System-Software versagte, betrachten wir noch."
   ]
  },
  {
   "cell_type": "markdown",
   "metadata": {},
   "source": [
    "### Gleitkommazahlen (engl. *floating point numbers*, abgekürzt „*floats*“)\n",
    "\n",
    "Wir können eine Gleitkommazahl in Python grammatikalisch mit Hilfe eines Dezimalpunktes darstellen:"
   ]
  },
  {
   "cell_type": "code",
   "execution_count": null,
   "metadata": {},
   "outputs": [],
   "source": [
    "a = 2.0\n",
    "print(a)\n",
    "print(type(a))\n",
    "\n",
    "b = 3.\n",
    "print(b)\n",
    "print(type(b))"
   ]
  },
  {
   "cell_type": "markdown",
   "metadata": {},
   "source": [
    "oder in der uns bereits aus Kapitel 1 bekannten „wissenschaftliche Notation“ für dezimale Kommazahlen mittels `e` oder `E` aufschreiben (die Wahl zwischen `e` und `E` ist  Geschmacksache):"
   ]
  },
  {
   "cell_type": "code",
   "execution_count": null,
   "metadata": {},
   "outputs": [],
   "source": [
    "a = 2e0\n",
    "print(a, type(a))\n",
    "\n",
    "b = 2e3\n",
    "print(b, type(b))\n",
    "\n",
    "c = 2.1E3\n",
    "print(c, type(c))"
   ]
  },
  {
   "cell_type": "code",
   "execution_count": null,
   "metadata": {},
   "outputs": [],
   "source": []
  },
  {
   "cell_type": "markdown",
   "metadata": {},
   "source": [
    "### Komplexe Zahlen (engl. *complex numbers*)\n",
    "\n",
    "Eine komplexe Zahl ist eine erweiterte Kommazahl mit zwei kommazahligen Komponenten - einem Realteil und einem Imaginärteil. Wir können in Python eine komplexe Zahl notieren, indem wir das Zeichen `j` oder `J` hinter den Wert des Imaginärteils der komplexen Zahl schreiben:"
   ]
  },
  {
   "cell_type": "code",
   "execution_count": null,
   "metadata": {},
   "outputs": [],
   "source": [
    "a = 2j\n",
    "print(a, type(a))\n",
    "\n",
    "b = 4 - 3j\n",
    "print(b, type(b))"
   ]
  },
  {
   "cell_type": "markdown",
   "metadata": {},
   "source": [
    "Die üblichen arithmetischen Operationen für Addition, Subtraktion, Multiplikation und Division können alle auch mit komplexen Zahlen durchgeführt werden. Der Real- und Imaginärteil können jeweils von einer komplexen Zahl abgefragt werden:"
   ]
  },
  {
   "cell_type": "code",
   "execution_count": null,
   "metadata": {},
   "outputs": [],
   "source": [
    "print(b.imag)\n",
    "print(b.real)"
   ]
  },
  {
   "cell_type": "markdown",
   "metadata": {},
   "source": [
    "und auch die konjugiert komplexe Zahl einer komplexen Zahl kann gebildet werden:"
   ]
  },
  {
   "cell_type": "code",
   "execution_count": null,
   "metadata": {},
   "outputs": [],
   "source": [
    "print(b.conjugate())"
   ]
  },
  {
   "cell_type": "markdown",
   "metadata": {},
   "source": [
    "Wir können den „Betrag“ einer komplexen Zahl (auch als „Absolutbetrag“, als „Modulus“  oder als „Länge“ im Sinne  des euklidischen Abstandes der komplexen Zahl vom Urpsprung des komplexen Koordinatensystems bezeichnet) mit Hilfe von `abs` berechnen:"
   ]
  },
  {
   "cell_type": "code",
   "execution_count": null,
   "metadata": {},
   "outputs": [],
   "source": [
    "print(abs(b))"
   ]
  },
  {
   "cell_type": "markdown",
   "metadata": {},
   "source": [
    "Allgemeiner liefert uns `abs` den Wert des Absolutbetrages eines numerischen Objektes, beispielsweise:"
   ]
  },
  {
   "cell_type": "code",
   "execution_count": null,
   "metadata": {},
   "outputs": [],
   "source": [
    "a = -21.6\n",
    "a = abs(a)\n",
    "print(a)"
   ]
  },
  {
   "cell_type": "markdown",
   "metadata": {},
   "source": [
    "# Konvertierung von Datentypen (engl. *\\[type\\] casting*)\n",
    "\n",
    "Oftmals können wir zwischen unterschiedlichen Datentypen konvertieren (hin- und herwandlen). Dies bezeichnet man als Datentypumwandlung (engl. *type conversion*) oder auch als Datentypkonvertierung (engl. *type casting*). In einigen Fällen macht Python das für uns *implizit* (engl. *implicit type cast*), in anderen Fällen können oder müssen wir Python *explizit* dazu anweisen („zwingen“), den Datentyp eines Zahlenliterals, einer Variable oder des Ergebnisses eines arithmetischen Ausdruckes in einen von uns ingenieurmäßig vorgegebenen Datentypen umzuwandlen (engl. *explicit type cast*).\n",
    "\n",
    "Wenn wir zwei Python-Ganzzahlobjekte (vom Phyton 3 Datentyp `int`) addieren, wird das Ergebnis dieser Berechnung wieder vom Python 3 Ganzzahldatentyp `int` sein:"
   ]
  },
  {
   "cell_type": "code",
   "execution_count": null,
   "metadata": {},
   "outputs": [],
   "source": [
    "a = 4\n",
    "b = 15\n",
    "c = a + b\n",
    "print(c, type(c))"
   ]
  },
  {
   "cell_type": "markdown",
   "metadata": {},
   "source": [
    "Wenn wir jedoch zu einem Zahlenobjekt vom Datentyp `int` ein Zahlenobjekt vom Datentyp `float` addieren, wird das Ergebnis der Berechnung vom Datentyp `float` sein:"
   ]
  },
  {
   "cell_type": "code",
   "execution_count": null,
   "metadata": {},
   "outputs": [],
   "source": [
    "a = 4\n",
    "b = 15.0  # hinzufügen von '.0' teilt Python mit, dass es sich hier um eine GK-Zahl handelt\n",
    "c = a + b\n",
    "print(c, type(c))."
   ]
  },
  {
   "cell_type": "markdown",
   "metadata": {},
   "source": [
    "Wenn wir zwei Python-Ganzzahlobjekte mit dem Operator `/` dividieren, ist das Ergebnis der Berechnung eine Gleitkommazahl vom Python-Datentyp `float`:"
   ]
  },
  {
   "cell_type": "code",
   "execution_count": null,
   "metadata": {},
   "outputs": [],
   "source": [
    "a = 16\n",
    "b = 4\n",
    "c = a / b\n",
    "print(c, type(c))\n",
    "b = 2"
   ]
  },
  {
   "cell_type": "markdown",
   "metadata": {},
   "source": [
    "Eine sogenannte „*Ganzzahldivision* (ohne Rest)“ können wir in Python 3 mit dem Operator `//` durchführen, z. B.:"
   ]
  },
  {
   "cell_type": "code",
   "execution_count": null,
   "metadata": {},
   "outputs": [],
   "source": [
    "a = 16\n",
    "b = 3\n",
    "c = a // b\n",
    "print(c, type(c))"
   ]
  },
  {
   "cell_type": "markdown",
   "metadata": {},
   "source": [
    "so dass in diesem Fall das Berechnungsergebnis den Python-Ganzzahldatentyp `int` besitzt.\n",
    "\n",
    "Im Allgemeinen werden *arithmetische Operationen* von „Rechenausdrücken“ (mathematisch auch als „arithmetische Terme“ bezeichnet), welche die Python-Zahlendatentypen `int` und `float` miteinander kombinieren („(ver)-mischen“), ein (ausgewertetes) Berechnungsergebnis vom Gleitkommadatentyp `float` erzeugen und arithmetische Ausdrücke, in denen die Python-Datentypen `int` oder `float` mit dem Datentyp `complex` kombiniert werden, werden ein ausgewertetes Zahlenergebnis vom Python-Datentyp `complex` ergeben. Wenn wir Zweifel haben oder uns unsicher sind, können wir den Datentyp eines Python-Objektes immer mit `type` untersuchen, auf Übereinstimmung mit unseren Wünschen bzw. Anforderungen (Wünschen von uns oder unseren Kunden / Interessenhaltern bzw. auch von gesetzlichen, unternehmerischen, technischen oder regulatorischen Vorgaben) prüfen und gegebenenfalls bestätigen.  "
   ]
  },
  {
   "cell_type": "markdown",
   "metadata": {},
   "source": [
    "## Explizite Datentypkonvertierung (engl. *explicit type conversion*)\n",
    "\n",
    "Wir können explizit den Datentyp eines Python-Objektes umwandeln (ein sog. „*cast*“ durchführen), z. B. ein Python-Objekt vom Datentyp `int` in ein Python-Objekt vom Datentyp `float` umwandeln:"
   ]
  },
  {
   "cell_type": "code",
   "execution_count": 2,
   "metadata": {},
   "outputs": [
    {
     "name": "stdout",
     "output_type": "stream",
     "text": [
      "1 <class 'int'>\n",
      "1.0 <class 'float'>\n"
     ]
    }
   ],
   "source": [
    "a = 1\n",
    "print(a, type(a))\n",
    "\n",
    "a = float(a)  # Dies wandelt das mit der Variablen 'a' assoziierte Ganzzahlobjekt 1 vom\n",
    "              # Datentyp int in das Gleitkommazahlobjekt 1.0 vom Datentyp float um\n",
    "              # und weist das umgewandelte Zahlenobjekt wieder der Variablen 'a' zu\n",
    "print(a, type(a))"
   ]
  },
  {
   "cell_type": "markdown",
   "metadata": {},
   "source": [
    "Andersherum:"
   ]
  },
  {
   "cell_type": "code",
   "execution_count": null,
   "metadata": {},
   "outputs": [],
   "source": [
    "y = 1.99\n",
    "print(y, type(y))\n",
    "\n",
    "z = int(y)\n",
    "print(z, type(z))"
   ]
  },
  {
   "cell_type": "markdown",
   "metadata": {},
   "source": [
    "Beachten Sie, dass die Nachkommastellen bei der Datentypumwandlung eines Gleitkommazahlenobjektes vom Datentyp `float` in ein Ganzzahlobjekt vom Datentyp `int` verloren gehen; die Zahlen hinter dem Dezimalpunkt, der als Kommaposition bzw. Dezimaltrennzeichen für Python dient, werden verworfen. Diese Art der Rundung von Kommzahlen in Ganzzahlen wird auch als „Rundung in Richtung der Null“ bzw. als Abschneiden (engl. „*truncation*“) von dezimalen Nachkommastellen bezeichnet.\n",
    "\n",
    "Eine häufige Erfordernis beim Programmieren ist die Umwandlung von numerischen Datentypen in Zeichenketten und umgekehrt, beispielsweise wird oftmals eine Zahl aus einer Datei als Zeichenkette (dargestellt als Python-Datentyp `string`) in unser Programm eingelesen oder eine Anwender oder eine Anwenderin unseres Programmes könnte einen Zahlwerten über die Tastatur in unser Programm eingeben, die Python dann zunächst als Zeichenkette vom Datentyp `string` einliest. Im folgenden Beispiel sehen wir die Konvertierung einer Gleitkommazahl vom Datentyp `float` in eine Zeichenkette vom Datentyp `string`:"
   ]
  },
  {
   "cell_type": "code",
   "execution_count": null,
   "metadata": {},
   "outputs": [],
   "source": [
    "a = 1.023\n",
    "b = str(a)\n",
    "print(b, type(b))"
   ]
  },
  {
   "cell_type": "markdown",
   "metadata": {},
   "source": [
    "und als Beispiel für zwei Umwandlungen in die andere Richtung (Datentypumwandlung von `string` nach `float`):"
   ]
  },
  {
   "cell_type": "code",
   "execution_count": 4,
   "metadata": {},
   "outputs": [
    {
     "name": "stdout",
     "output_type": "stream",
     "text": [
      "15.0718.07\n",
      "33.14\n"
     ]
    }
   ],
   "source": [
    "a = \"15.07\"\n",
    "b = \"18.07\"\n",
    "\n",
    "print(a + b)                # Zeichenkettenaneinanderreihung (concatenation of strings)\n",
    "print(float(a) + float(b))  # Summe zweier Gleitkommazahlen"
   ]
  },
  {
   "cell_type": "markdown",
   "metadata": {},
   "source": [
    "If we tried \n",
    "```python\n",
    "print(int(a) + int(b))\n",
    "```\n",
    "we could get an error that the strings could not be converted to `int`. It works in the case:"
   ]
  },
  {
   "cell_type": "code",
   "execution_count": null,
   "metadata": {},
   "outputs": [],
   "source": [
    "a = \"15\"\n",
    "b = \"18\"\n",
    "print(int(a) + int(b))"
   ]
  },
  {
   "cell_type": "markdown",
   "metadata": {},
   "source": [
    "since these strings can be correctly cast to integers."
   ]
  },
  {
   "cell_type": "markdown",
   "metadata": {},
   "source": [
    "## Ariane 5 rocket explosion and type conversion\n",
    "\n",
    "The Ariane 5 rocket explosion was caused by an integer overflow. The speed of the rocket was stored as a 64-bit float, and this was converted in the navigation software to a 16-bit integer. However, the value of the float was greater than $32767$, the largest number a 16-bit integer can represent, and this led to an overflow that in turn caused the navigation system to fail and the rocket to explode.\n",
    "\n",
    "We can demonstrate what happened in the rocket program. We consider a speed of $40000.54$ (units are not relevant to what is being demonstrated), stored as a `float` (64 bits):"
   ]
  },
  {
   "cell_type": "code",
   "execution_count": null,
   "metadata": {},
   "outputs": [],
   "source": [
    "speed_float = 40000.54"
   ]
  },
  {
   "cell_type": "markdown",
   "metadata": {},
   "source": [
    "If we first convert the float to a 32-bit `int` (we use NumPy to get integers with a fixed number of bits, more on NumPy in a later notebook):"
   ]
  },
  {
   "cell_type": "code",
   "execution_count": null,
   "metadata": {},
   "outputs": [],
   "source": [
    "import numpy as np\n",
    "speed_int = np.int32(speed_float)  # Convert the speed to a 32-bit int\n",
    "print(speed_int)"
   ]
  },
  {
   "cell_type": "markdown",
   "metadata": {},
   "source": [
    "The conversion behaves as we would expect. Now, if we convert the speed from the `float` to a 16-bit integer:"
   ]
  },
  {
   "cell_type": "code",
   "execution_count": null,
   "metadata": {},
   "outputs": [],
   "source": [
    "speed_int = np.int16(speed_float)\n",
    "print(speed_int)"
   ]
  },
  {
   "cell_type": "markdown",
   "metadata": {},
   "source": [
    "We see clearly the result of an integer overflow since the 16-bit integer has too few bits to represent the number \n",
    "40000.\n",
    "\n",
    "The Ariane 5 failure would have been averted with pre-launch testing and the following few lines:"
   ]
  },
  {
   "cell_type": "code",
   "execution_count": null,
   "metadata": {},
   "outputs": [],
   "source": [
    "if abs(speed_float) > np.iinfo(np.int16).max:\n",
    "    print(\"***Error, cannot assign speed to 16-bit int. Will cause overflow.\")\n",
    "    # Call command here to exit program\n",
    "else:\n",
    "    speed_int = np.int16(speed_float)"
   ]
  },
  {
   "cell_type": "markdown",
   "metadata": {},
   "source": [
    "These few lines and careful testing would have saved the $500M payload and the cost of the rocket.\n",
    "\n",
    "The Ariane 5 incident is an example not only of a poor piece of programming, but also very poor testing and software engineering. Careful pre-launch testing of the software would have detected this problem. The program should have checked the value of the velocity before performing the conversion, and triggered an error message that the type conversion would cause an overflow."
   ]
  },
  {
   "cell_type": "markdown",
   "metadata": {},
   "source": [
    "# Binary representation and floating point arithmetic\n",
    "\n",
    "## Binary (base 2) representation\n",
    "\n",
    "Computers store data using 'bits', and a bit is a switch that can have a value of 0 or 1. This means that computers store numbers in binary (base 2), whereas we almost always work with decimal numbers (base 10).\n",
    "For example, the binary number $110$ is equal to $0 \\times 2^{0} + 1 \\times 2^{1} + 1 \\times 2^{2} = 6$\n",
    "(read $110$ right-to-left).\n",
    "Below is a table with decimal (base 10) and the corresponding binary (base 2) representation of some numbers. See <https://en.wikipedia.org/wiki/Binary_number> if you want to learn more.\n",
    "\n",
    "|Decimal | Binary  |\n",
    "| ------ |-------- |\n",
    "|0       |\t   0   | \n",
    "|1       |\t1      | \n",
    "|2       |\t10     |\n",
    "|3       |\t11     |\n",
    "|4       |\t100    |\n",
    "|5       |\t101    |\n",
    "|6       |\t110    |\n",
    "|7       |\t111    |\n",
    "|8       |\t1000   |\n",
    "|9       |\t1001   |\n",
    "|10      |\t1010   |\n",
    "|11\t     |  1011   |\n",
    "|12\t     |  1100   |\n",
    "|13      |\t1101   |\n",
    "|14      |\t1110   |\n",
    "|15      |\t1111   |\n",
    "\n",
    "To represent any integer, all we need are enough bits to store the binary representation. If we have $n$ bits, the largest number we can store is $2^{n -1} - 1$ (the power is $n - 1$ because we use one bit to store the sign of the integer).\n",
    "\n",
    "We can display the binary representation of an integer in Python using the function `bin`:"
   ]
  },
  {
   "cell_type": "code",
   "execution_count": null,
   "metadata": {},
   "outputs": [],
   "source": [
    "print(bin(2))\n",
    "print(bin(6))\n",
    "print(bin(110))"
   ]
  },
  {
   "cell_type": "markdown",
   "metadata": {},
   "source": [
    "The prefix `0b` is to denote that the representation is binary."
   ]
  },
  {
   "cell_type": "markdown",
   "metadata": {
    "collapsed": true
   },
   "source": [
    "## Floating point numbers\n",
    "\n",
    "We introduced the representation\n",
    "\n",
    "$$\n",
    "10.45 = \\underbrace{+}_{\\text{sign}} \\underbrace{1045}_{\\text{significand}} \\times \\underbrace{10^{-2}}_{\\text{exponent}}\n",
    "$$\n",
    "\n",
    "earlier. However, this was a little misleading because computers do not use base 10\n",
    "to store the significand and the exponent, but base 2. \n",
    "\n",
    "When using the familiar base 10, we cannot represent $1/3$ exactly as a decimal. If we liked using base 3 (ternary numeral system) for our mental arithmetic (which we really don't), we could represent $1/3$ exactly. However, fractions that are simple to represent exactly in base 10 might not be representable in another base.\n",
    "A consequence is that fractions that are simple in base 10 cannot necessarily be represented exactly by computers using binary.\n",
    "\n",
    "A classic example is $1/10 = 0.1$. This simple number cannot be represented exactly in\n",
    "binary. On the contrary, $1/2 = 0.5$ can be represented exactly. To explore this, let's assign the number 0.1 to the variable `x` and print the result:"
   ]
  },
  {
   "cell_type": "code",
   "execution_count": null,
   "metadata": {},
   "outputs": [],
   "source": [
    "x = 0.1\n",
    "print(x)"
   ]
  },
  {
   "cell_type": "markdown",
   "metadata": {},
   "source": [
    "This looks fine, but the `print` statement is hiding some details. Asking the `print` statement to use 30 characters we see that `x` is not exactly 0.1:"
   ]
  },
  {
   "cell_type": "code",
   "execution_count": null,
   "metadata": {},
   "outputs": [],
   "source": [
    "print('{0:.30f}'.format(x))"
   ]
  },
  {
   "cell_type": "markdown",
   "metadata": {},
   "source": [
    "The difference between 0.1 and the binary representation is the *roundoff error* (we'll look at print formatting syntax in a later activity). From the above, we can see that the representation is accurate to about 17 significant figures.\n",
    "\n",
    "Checking for 0.5, we see that it appears to be represented exactly:"
   ]
  },
  {
   "cell_type": "code",
   "execution_count": null,
   "metadata": {},
   "outputs": [],
   "source": [
    "print('{0:.30f}'.format(0.5))"
   ]
  },
  {
   "cell_type": "markdown",
   "metadata": {},
   "source": [
    "The round-off error for the 0.1 case is small, and in many cases will not present a problem. However, sometimes round-off errors can accumulate and destroy accuracy."
   ]
  },
  {
   "cell_type": "markdown",
   "metadata": {},
   "source": [
    "### Example: inexact representation\n",
    "\n",
    "It is trivial that\n",
    "\n",
    "$$\n",
    "x = 11x - 10x\n",
    "$$\n",
    "\n",
    "If $x = 0.1$, we can  write\n",
    "\n",
    "$$\n",
    "x = 11x - 1\n",
    "$$\n",
    "\n",
    "Now, starting with $x = 0.1$ we evaluate the right-hand side to get a 'new' $x$, and use this new $x$ to then evaluate the right-hand side again. The arithmetic is trivial: $x$ should remain equal to $0.1$.\n",
    "We test this in a program that repeats this process 20 times: "
   ]
  },
  {
   "cell_type": "code",
   "execution_count": null,
   "metadata": {},
   "outputs": [],
   "source": [
    "x = 0.1\n",
    "for i in range(20):\n",
    "    x = x*11 - 1\n",
    "    print(x)"
   ]
  },
  {
   "cell_type": "markdown",
   "metadata": {},
   "source": [
    "The solution blows up and deviates widely from $x = 0.1$. Round-off errors are amplified at each step, leading to a completely wrong answer. The computer representation of $0.1$ is not exact, and every time we multiply $0.1$ by $11$, we increase the error by around a factor of 10 (we can see above that we lose a digit of accuracy in each step). \n",
    "You can observe the same issue using spreadsheet programs."
   ]
  },
  {
   "cell_type": "markdown",
   "metadata": {},
   "source": [
    "If we use $x = 0.5$, which can be represented exactly in binary:"
   ]
  },
  {
   "cell_type": "code",
   "execution_count": null,
   "metadata": {},
   "outputs": [],
   "source": [
    "x = 0.5\n",
    "for i in range(20):\n",
    "    x = x*11 - 5\n",
    "    print(x)"
   ]
  },
  {
   "cell_type": "markdown",
   "metadata": {},
   "source": [
    "The result is exact in this case.\n",
    "\n",
    "By default, Python uses 64 bits to store a float. We can use the module NumPy to create a \n",
    "float that uses only 32 bits. Testing this for the $x = 0.1$ case:"
   ]
  },
  {
   "cell_type": "code",
   "execution_count": null,
   "metadata": {},
   "outputs": [],
   "source": [
    "x = np.float32(0.1)\n",
    "for i in range(20):\n",
    "    x = x*11 - 1\n",
    "    print(x)"
   ]
  },
  {
   "cell_type": "markdown",
   "metadata": {},
   "source": [
    "The error blows up faster in this case compared to the 64 bit case - using 32 bits leads to a poorer approximation of $0.1$ than when using 64 bits.\n",
    "\n",
    "*Note:* Some languages have special tools for performing decimal (base 10) arithmetic (e.g., https://docs.python.org/3/library/decimal.html). This would, for example, allow $0.1$ to be represented exactly. However, decimal is not the 'natural' arithmetic of computers so operations in decimal could be expected to be much slower."
   ]
  },
  {
   "cell_type": "markdown",
   "metadata": {},
   "source": [
    "## Patriot Missile Failure\n",
    "\n",
    "The inexact representation of $0.1$ was the cause of the software error in the Patriot missile system (see preamble to this notebook). \n",
    "The missile system tracked time from boot (system start) using an integer counter that was incremented every $1/10$ of a second. To\n",
    "get the time in seconds, the missile software multiplied the counter by the float representation of $0.1$. \n",
    "The control software used 24 bits to store floats. The round-off error due to the inexact representation of $0.1$ lead to an error of $0.32$ s after 100 hours of operation (time since boot), which due to the high velocity of the missile was enough to cause failure to intercept the incoming Scud.\n",
    "\n",
    "We don't have 24-bit floats in Python, but we can test with 16, 32 and 64 bit floats.\n",
    "We first compute what the system counter (an integer) would be after 100 hours:"
   ]
  },
  {
   "cell_type": "code",
   "execution_count": null,
   "metadata": {},
   "outputs": [],
   "source": [
    "# Compute internal system counter after 100 hours (counter increments every 1/10 s)\n",
    "num_hours = 100\n",
    "num_seconds = num_hours*60*60\n",
    "system_counter = num_seconds*10  # system clock counter"
   ]
  },
  {
   "cell_type": "markdown",
   "metadata": {},
   "source": [
    "Converting the system counter to seconds using different representations of 0.1:"
   ]
  },
  {
   "cell_type": "code",
   "execution_count": null,
   "metadata": {},
   "outputs": [],
   "source": [
    "# Test with 16 bit float\n",
    "dt = np.float16(0.1)\n",
    "time = dt*system_counter\n",
    "print(\"Time error after 100 hours using 16 bit float (s):\", abs(time - num_seconds))\n",
    "\n",
    "# Test with 32 bit float\n",
    "dt = np.float32(0.1)\n",
    "time = dt*system_counter\n",
    "print(\"Time error after 100 hours using 32 bit float (s):\", abs(time - num_seconds))\n",
    "\n",
    "# Test with 64 bit float\n",
    "dt = np.float64(0.1)\n",
    "time = dt*system_counter\n",
    "print(\"Time error after 100 hours using 64 bit float (s):\", abs(time - num_seconds))"
   ]
  },
  {
   "cell_type": "markdown",
   "metadata": {},
   "source": [
    "The time computation with 16-bit floats is more than a minute off after 100 hours! The stop-gap measure \n",
    "for the Patriot missiles at the time was to reboot the missile systems frequently, thereby resetting the system counter and reducing the time error."
   ]
  },
  {
   "cell_type": "markdown",
   "metadata": {},
   "source": [
    "# Zusammenfassung\n",
    "\n",
    "Die essentiellen Punkte dieser Aktivität sind:\n",
    "\n",
    "- The size of an integer that a computer can store is determined by the number of bits used to represent the \n",
    "  integer.\n",
    "- Computer (Digitalrechner) do not perform exact arithmetic with non-integer numbers. This does not usually cause a problem, but \n",
    "  it can in cases. Problems can often be avoided with careful programming.\n",
    "- Be thoughtful when converting between types - undesirable consequences can follow when careless with \n",
    "  conversions."
   ]
  },
  {
   "cell_type": "markdown",
   "metadata": {},
   "source": [
    "# Übung\n",
    "\n",
    "Bearbeiten Sie nun vollständig das dieses Dokument begleitende Jupyter-Notebook [Übung 3](Uebungen/Uebung%2003.ipynb)."
   ]
  }
 ],
 "metadata": {
  "kernelspec": {
   "display_name": "Python 3",
   "language": "python",
   "name": "python3"
  },
  "language_info": {
   "codemirror_mode": {
    "name": "ipython",
    "version": 3
   },
   "file_extension": ".py",
   "mimetype": "text/x-python",
   "name": "python",
   "nbconvert_exporter": "python",
   "pygments_lexer": "ipython3",
   "version": "3.7.3"
  }
 },
 "nbformat": 4,
 "nbformat_minor": 1
}
