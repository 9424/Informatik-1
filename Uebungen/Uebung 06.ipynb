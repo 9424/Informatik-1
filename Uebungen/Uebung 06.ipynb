{
 "cells": [
  {
   "cell_type": "markdown",
   "metadata": {
    "deletable": false,
    "nbgrader": {
     "checksum": "8969a6543eebd1c7db89a71bb75e61ee",
     "grade": false,
     "grade_id": "cell-7b3313f25bceb7a2",
     "locked": false,
     "schema_version": 1,
     "solution": false
    }
   },
   "source": [
    "## Übung 6.1 (Auswahl einer geeigneten Datenstruktur zur vereinfachten Parameterübergabe an eine Funktion)\n",
    "\n",
    "In Übung 4.3 haben Sie eine Python-Funktion entwickelt, die den Flächeninhalt eines Dreickes aus sechs formalen Parametern (den $x$- und $y$-Koordinaten der drei Eckpunkte des Dreickes) berechnet. Bei sechs formalen Parametern ist die Wahrscheinlichkeit groß, dass ein Aufrufer der Funktion beim Funktionsaufruf die aktuellen Parameter (die „Argumente“) in der falschen Reihenfolge übergibt. \n",
    "\n",
    "Verwenden Sie eine geeignete Datenstruktur, wie z. B. `list`, `tuple` oder `dict`, um eine neue Version Ihrer Funktion mit einer vereinfachten Schnittstelle zu entwickeln. (Die Schnittstelle definiert die formalen Parameter einer Funktion.) Ergänzen Sie in der Definition Ihrer neuen Funktion auch geeignete Tests, um die Gültigkeit der an die vereinfachten formalen Parameter übergebenen Eingabedaten zu überprüfen."
   ]
  },
  {
   "cell_type": "code",
   "execution_count": null,
   "metadata": {
    "deletable": false,
    "nbgrader": {
     "checksum": "93c53f411edb621595bc865f6c79cbaf",
     "grade": false,
     "grade_id": "cell-50c4566d7bcbffaf",
     "locked": false,
     "schema_version": 1,
     "solution": true
    }
   },
   "outputs": [],
   "source": [
    "# YOUR CODE HERE\n",
    "raise NotImplementedError()"
   ]
  },
  {
   "cell_type": "markdown",
   "metadata": {
    "deletable": false,
    "nbgrader": {
     "checksum": "538793e1776653182d193a7700588461",
     "grade": false,
     "grade_id": "cell-5065052af9989fdf",
     "locked": false,
     "schema_version": 1,
     "solution": false
    }
   },
   "source": [
    "## Übung 6.2 (Auswahl geeigneter Datenstrukturen)\n",
    "\n",
    "Der Flächeninhalt $A$ eines einfachen Polygons („einfach“ ist ein Polygon, wenn sich seine Kanten nicht schneiden) mit den $n$ aufeinanderfolgenden Eckpunkten gegeben durch deren Koordinaten $(x_0, y_0)$, $(x_1, y_1)$, . . , $(x_{n-1}, y_{n-1})$ lässt sich mit der folgenden Formel berechnen:\n",
    "$$\n",
    "A = \\left| \\frac{1}{2} \\sum_{i=0}^{n-1} \\left(x_{i} y _{i+1} - x_{i+1} y_{i} \\right) \\right|\n",
    "$$\n",
    "wobei $(x_n, y_n) = (x_0, y_0)$. Die Eckpunkte des Polygons müssen dabei beim Umlauf entlang der Kanten des Polygons in einer gewählten Richtung in genau ihrer auftretenden Reihenfolge durchnummeriert werden. Der gewählte erste Eckpunkt (als Startpunkt) erhält dabei den Index $0$ und entspricht nach vollständigem Umlauf auch gleichzeitig dem letzten Eckpunkt (dem Zielpunkt) mit Index $n$.\n",
    "\n",
    "Entwickeln Sie eine Python-Funktion zur Berechnung des Flächeninhaltes eines einfachen Polygons mit beliebig vielen Eckpunkten. Testen Sie die Ihre Funktion für einige einfache Polygone. Achten Sie bei der Konstruktion Ihrer Testfälle darauf, dass Sie keine Polygone mit Schleifen oder sich schneidenen Kanten entwerfen. "
   ]
  },
  {
   "cell_type": "code",
   "execution_count": null,
   "metadata": {
    "deletable": false,
    "nbgrader": {
     "checksum": "3c6fe94718310475d875ec60534199eb",
     "grade": false,
     "grade_id": "cell-4b5a619405787746",
     "locked": false,
     "schema_version": 1,
     "solution": true
    }
   },
   "outputs": [],
   "source": [
    "# YOUR CODE HERE\n",
    "raise NotImplementedError()"
   ]
  },
  {
   "cell_type": "markdown",
   "metadata": {
    "deletable": false,
    "nbgrader": {
     "checksum": "31a71dcd54f996f2f798df30114b9faf",
     "grade": false,
     "grade_id": "cell-ced99a38c7bbe7a0",
     "locked": false,
     "schema_version": 1,
     "solution": false
    }
   },
   "source": [
    "## Übung 6.3 (Indexierung)\n",
    "\n",
    "Schreiben Sie eine Python-Funktion, die die Indexierung von Listenelementen verwendet, um zwei übergebene Vektoren beliebiger Länge addieren zu können und einen neuen Vektor (den Summenvektor) an ihren Aufrufer zurückgibt. Fügen Sie Ihrer Funktionsdefinition eine Kontrolle hinzu, um zu überprüfen, dass die beiden übergebenen Vektoren nicht leer sind und die gleiche Anzahl an Elementen haben und geben Sie andernfalls einen entsprechenden Warnhinweis (bzw. eine „Fehlermeldung“) auf der Konsole aus. Je spezifischer Ihre Fehlermeldung ist, desto einfacher wird es für einen Aufrufer Ihrer Funktion, die Fehlersuche im aufrufenden Python-Code durchzuführen.\n",
    "\n",
    "Fügen Sie Ihrer Lösung bzw. Implementierung einige geeignete Testfälle hinzu.\n",
    "\n",
    "#### Implemtierungshinweis: Sie können eine Liste aus `n` Nullen erstellen mit\n",
    "\n",
    "    z = [0] * n\n",
    "    \n",
    "#### Optional (fortgeschritten bzw. weiterführend, für besonders Interessierte) \n",
    "\n",
    "Versuchen Sie eine alternative, einzeilige Version ihrer zuvor entwickelten Vektoraddition mittels der sog. „*Listen-Abstraktion*“ (engl. *list comprehension*) und der eingebauten Python-Funktion [`zip`](https://docs.python.org/3/library/functions.html#zip) zu erstellen."
   ]
  },
  {
   "cell_type": "code",
   "execution_count": null,
   "metadata": {
    "deletable": false,
    "nbgrader": {
     "checksum": "66ea7d534bb1cbabf82dbcbb69e4dd02",
     "grade": false,
     "grade_id": "cell-47daca03f7a96b62",
     "locked": false,
     "schema_version": 1,
     "solution": true
    }
   },
   "outputs": [],
   "source": [
    "def addiere_vektoren(x, y):\n",
    "    \"\"\"\"Bildet den (elementweisen) Summenvektor aus (den als Python-Listen) übergebenen\n",
    "        Vektoren x und y und gibt diesen (als Python-Liste) an den Aufrufer zurück.\"\"\"\n",
    "    # YOUR CODE HERE\n",
    "    raise NotImplementedError()"
   ]
  },
  {
   "cell_type": "code",
   "execution_count": null,
   "metadata": {
    "deletable": false,
    "nbgrader": {
     "checksum": "9b3d802cdb7440be47952667335f5cc7",
     "grade": true,
     "grade_id": "cell-95f5819810d2b2c7",
     "locked": false,
     "points": 0,
     "schema_version": 1,
     "solution": false
    }
   },
   "outputs": [],
   "source": [
    "a = [0, 4.3, -5, 7]\n",
    "b = [-2, 7, -15, 1]\n",
    "c = addiere_vektoren(a, b)\n",
    "assert c == [-2, 11.3, -20, 8]"
   ]
  },
  {
   "cell_type": "markdown",
   "metadata": {},
   "source": [
    "### Optionale Erweiterung: „*Listen-Abstraktion*“ (engl. *list comprehension*)"
   ]
  },
  {
   "cell_type": "code",
   "execution_count": null,
   "metadata": {
    "deletable": false,
    "nbgrader": {
     "checksum": "3ace0d343b7871c30f7776e20669bf3e",
     "grade": true,
     "grade_id": "cell-c182b3f0d8952692",
     "locked": false,
     "points": 0,
     "schema_version": 1,
     "solution": true
    }
   },
   "outputs": [],
   "source": [
    "# YOUR CODE HERE\n",
    "raise NotImplementedError()"
   ]
  },
  {
   "cell_type": "markdown",
   "metadata": {},
   "source": [
    "## Übung 6.4 (Datenstruktur für „Wörterbücher“, engl. *dictionaries*)\n",
    "\n",
    "Erstellen Sie mit Hilfe der Datenstruktur „Wörterbuch“, die in Python durch den eingebauten Datentyp `dict` bereitgestellt wird, ein Verzeichnis bzw. ein „Nachschlagewerk“ (Lexikon), das *Namen von deutschen Bundesländern* (als sog. „Schlüssel“, engl. *key*) auf deren offizielle Abkürzung (hier das „Nachschlageobjekt“ bzw. den „-wert“, engl. *value*) für mindestens fünf Bundesländer abbildet\n",
    "(Sie finden diese Abkürzungen z. B. beim [Statistischen Bundesamt](https://www.destatis.de/DE/Themen/Laender-Regionen/Regionales/Gemeindeverzeichnis/Glossar/bundeslaender.html) oder international auch als [ISO-Standard](https://de.wikipedia.org/wiki/ISO_3166-2:DE)).\n",
    "Aus Ihrem Python-Wörterbuch erstellen und geben Sie auf der Konsole aus:\n",
    "\n",
    "1. ein weiteres Verzeichnis, das Bundeslandkürzel (als „*key*“) auf Bundeslandnamen (als „*value*“) abbildet; und\n",
    "1. eine Liste der gespeicherten Bundeslandabkürzungen sortiert in alphabetisch aufsteigender Reihenfolge.\n",
    "\n",
    "*Optionale Erweiterung:* Erstellen Sie ein „Verzeichnis“ bzw. ein „Nachschlagewerk“ (Lexikon) vom Python-Datentyp `dict`, das jeweils einen Bundeslandnamen (als „Schlüssel“) abbildet auf ein Dreitupel (auch bezeichnet als „Tripel“, hier das „Nachschlageobjekt“ bzw. der „-wert“):\n",
    "\n",
    "- seines offiziellen Kürzels (seiner „Abkürzungsbezeichung“),\n",
    "- seiner zuletzt offiziell statisch geschätzten Einwohneranzahl (in Mio.); und\n",
    "- seiner Fläche in Quadratkilometern (km$^2$)\n",
    " \n",
    "für mindestens fünf Bundesländer. Entnehmen Sie die Daten zu den Bundesländern z. B. der freien Enzyklopädie [Wikipedia](<https://de.wikipedia.org/wiki/Land_(Deutschland)>). Bestimmen Sie mit Hilfe Ihres Verzeichnisses:\n",
    " \n",
    "1. das Bundesland mit der größten Einwohnerzahl und geben Sie dessen Kürzel auf der Konsole aus; und \n",
    "1. das flächenmäßig größte Bundesland und geben Sie dessen Einwohneranzahl (in Mio.) und seine Abkürzungsbezeichnung auf der Konsole aus."
   ]
  },
  {
   "cell_type": "code",
   "execution_count": null,
   "metadata": {
    "deletable": false,
    "nbgrader": {
     "checksum": "892cc4fd98d0f8cc393eff925b5d6b13",
     "grade": false,
     "grade_id": "cell-bc271dc3885e19c5",
     "locked": false,
     "schema_version": 1,
     "solution": true
    }
   },
   "outputs": [],
   "source": [
    "# YOUR CODE HERE\n",
    "raise NotImplementedError()"
   ]
  },
  {
   "cell_type": "markdown",
   "metadata": {
    "deletable": false,
    "nbgrader": {
     "checksum": "ee373920fe2377cf230967db220ba75a",
     "grade": false,
     "grade_id": "cell-45d2551a524193b0",
     "locked": false,
     "schema_version": 1,
     "solution": false
    }
   },
   "source": [
    "#### Optionale Erweiterung:"
   ]
  },
  {
   "cell_type": "code",
   "execution_count": null,
   "metadata": {
    "deletable": false,
    "nbgrader": {
     "checksum": "683b2dc107d00c494b6c163c5ab6cfa8",
     "grade": false,
     "grade_id": "cell-7040c4053c72ce09",
     "locked": false,
     "schema_version": 1,
     "solution": true
    }
   },
   "outputs": [],
   "source": [
    "# YOUR CODE HERE\n",
    "raise NotImplementedError()"
   ]
  }
 ],
 "metadata": {
  "kernelspec": {
   "display_name": "Python 3",
   "language": "python",
   "name": "python3"
  },
  "language_info": {
   "codemirror_mode": {
    "name": "ipython",
    "version": 3
   },
   "file_extension": ".py",
   "mimetype": "text/x-python",
   "name": "python",
   "nbconvert_exporter": "python",
   "pygments_lexer": "ipython3",
   "version": "3.7.3"
  }
 },
 "nbformat": 4,
 "nbformat_minor": 1
}
