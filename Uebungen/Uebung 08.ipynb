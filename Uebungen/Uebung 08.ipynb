{
 "cells": [
  {
   "cell_type": "markdown",
   "metadata": {
    "deletable": false,
    "nbgrader": {
     "checksum": "75c425aff1f0a436daf36404c8ba2ab1",
     "grade": false,
     "grade_id": "cell-ea6c1e4c217d0584",
     "locked": false,
     "schema_version": 1,
     "solution": false
    }
   },
   "source": [
    "Die Zusatzmodule NumPy und Matplotlib (beide nicht Teil der Python-Standardbibiliothek) zur Verfügung stellen mit:"
   ]
  },
  {
   "cell_type": "code",
   "execution_count": null,
   "metadata": {
    "deletable": false,
    "nbgrader": {
     "checksum": "59eda70eb0da3f712de94d757423e124",
     "grade": false,
     "grade_id": "cell-851f16f7d1f512b6",
     "locked": false,
     "schema_version": 1,
     "solution": false
    }
   },
   "outputs": [],
   "source": [
    "import numpy as np\n",
    "import matplotlib.pyplot as plt"
   ]
  },
  {
   "cell_type": "markdown",
   "metadata": {
    "deletable": false,
    "nbgrader": {
     "checksum": "8acb2d08e3646dfeb083bc19f1ad7e50",
     "grade": false,
     "grade_id": "cell-2ae2b1794b3463d5",
     "locked": false,
     "schema_version": 1,
     "solution": false
    }
   },
   "source": [
    "## Übung 8.1 (Plotten einer mathematischen Funktion)\n",
    "\n",
    "Gegeben ist die folgende mathematische Funktion \n",
    "$$\n",
    "f(x) = \\exp \\left( \\frac{x}{10} \\right) \\sin(\\omega_{1}x)\\cos(\\omega_{0}x)\n",
    "$$\n",
    "im Bereich $x = -4\\pi$ bis $x = 4\\pi$."
   ]
  },
  {
   "cell_type": "markdown",
   "metadata": {
    "deletable": false,
    "nbgrader": {
     "checksum": "829dcc103249f5c46c67dd8738848e0e",
     "grade": false,
     "grade_id": "cell-7bbadc15f57cb62e",
     "locked": false,
     "schema_version": 1,
     "solution": false
    }
   },
   "source": [
    "(1) Plotten Sie die Funktion für $\\omega_{0} = \\omega_{1} = 1$. Beschriften Sie die Achsen."
   ]
  },
  {
   "cell_type": "code",
   "execution_count": null,
   "metadata": {
    "deletable": false,
    "nbgrader": {
     "checksum": "dda339af9d9ff1200c6e690cc736346e",
     "grade": false,
     "grade_id": "cell-c220b6560241ee82",
     "locked": false,
     "schema_version": 1,
     "solution": true
    }
   },
   "outputs": [],
   "source": [
    "anzahl_punkte = 100\n",
    "x = np.linspace(-4*np.pi, 4*np.pi, num=anzahl_punkte)\n",
    "\n",
    "f = np.exp(x/10)*np.sin(x)*np.cos(x)\n",
    "# YOUR CODE HERE\n",
    "raise NotImplementedError()"
   ]
  },
  {
   "cell_type": "markdown",
   "metadata": {
    "deletable": false,
    "nbgrader": {
     "checksum": "9d299345f06033e8be689ce7feebea37",
     "grade": false,
     "grade_id": "cell-e4170686d6779807",
     "locked": false,
     "schema_version": 1,
     "solution": false
    }
   },
   "source": [
    "(2) **Optional extension:** Create an interactive plot with sliders for $\\omega_{0}$ and $\\omega_{1}$, varying from 0 to 2."
   ]
  },
  {
   "cell_type": "code",
   "execution_count": null,
   "metadata": {
    "deletable": false,
    "nbgrader": {
     "checksum": "88d66aece0257fe1f0965921fcfc3580",
     "grade": false,
     "grade_id": "cell-e6df2ed12d41ffa1",
     "locked": false,
     "schema_version": 1,
     "solution": true
    }
   },
   "outputs": [],
   "source": [
    "from ipywidgets import *\n",
    "\n",
    "# YOUR CODE HERE\n",
    "raise NotImplementedError()"
   ]
  },
  {
   "cell_type": "markdown",
   "metadata": {
    "deletable": false,
    "nbgrader": {
     "checksum": "94ca85f38721a3face01aecf8f91dedd",
     "grade": false,
     "grade_id": "cell-8fa19840a1969ff6",
     "locked": false,
     "schema_version": 1,
     "solution": false
    }
   },
   "source": [
    "## Übung 8.2 (multiple function plotting)\n",
    "\n",
    "Plot the function \n",
    "\n",
    "$$\n",
    "f(x)  = \\frac{\\sin(x)}{x}\n",
    "$$\n",
    "\n",
    "from $x = -6\\pi$ to $x = 6\\pi$. Think carefully about which $x$ values you use when \n",
    "$x$ is close to zero.\n",
    "  \n",
    "Add to the above plot the graph of $1/ \\left| x \\right|$, and limit the range of the $y$ axis to 1 using\n",
    "`plt.ylim`. (Hint: use `np.abs(x)` to return the absolute values of each \n",
    "component of a NumPy array `x`.)"
   ]
  },
  {
   "cell_type": "code",
   "execution_count": null,
   "metadata": {
    "deletable": false,
    "nbgrader": {
     "checksum": "e530357e82442e9fcb34698e9ddd5460",
     "grade": false,
     "grade_id": "cell-4a1bc264d6e1a525",
     "locked": false,
     "schema_version": 1,
     "solution": true
    }
   },
   "outputs": [],
   "source": [
    "# YOUR CODE HERE\n",
    "raise NotImplementedError()"
   ]
  },
  {
   "cell_type": "markdown",
   "metadata": {},
   "source": [
    "## Übung 8.3 (demographics and interactive plotting)\n",
    "\n",
    "A county planning body has requested an interactive tool to visualise the population distribution in Cambridgeshire (by district) from 2011 to 2021 for different population growth rate scenarios in each district. It can be assumed that:\n",
    "\n",
    "- the growth rates are constant in each district;\n",
    "- the growth rate will not be negative in any district; and \n",
    "- the annual growth rate in any one district will not exceed 10%.\n",
    "\n",
    "Building on the pie chart example with population data in the Activity notebook, create an interactive plot with:\n",
    "\n",
    "1. A slider for the year (from 2011 to 2021); and\n",
    "2. Sliders for the annual population growth for each district (in percentage), with an \n",
    "   initial value of zero for each district."
   ]
  },
  {
   "cell_type": "markdown",
   "metadata": {},
   "source": [
    "### Solution\n",
    "\n",
    "There are number of ways this exercise could be done, from very simple but not very robust with respect to changes in the order of the input data, to quite techical but robust with repsect to the order in which data is entered."
   ]
  },
  {
   "cell_type": "code",
   "execution_count": null,
   "metadata": {
    "deletable": false,
    "nbgrader": {
     "checksum": "c900ac52bff18cf62b81b3ff3522789e",
     "grade": false,
     "grade_id": "cell-0ddfc4c579d42ad3",
     "locked": false,
     "schema_version": 1,
     "solution": true
    }
   },
   "outputs": [],
   "source": [
    "# List of (district, population) data (in 2011)\n",
    "population_data = (('Cambridge City', 123900), \n",
    "                   ('East Cambridgeshire', 83800), \n",
    "                   ('Fenland', 95300), \n",
    "                   ('Huntingdonshire', 169500), \n",
    "                   ('South Cambridgeshire', 148800))\n",
    "\n",
    "# YOUR CODE HERE\n",
    "raise NotImplementedError()"
   ]
  }
 ],
 "metadata": {
  "kernelspec": {
   "display_name": "Python 3",
   "language": "python",
   "name": "python3"
  },
  "language_info": {
   "codemirror_mode": {
    "name": "ipython",
    "version": 3
   },
   "file_extension": ".py",
   "mimetype": "text/x-python",
   "name": "python",
   "nbconvert_exporter": "python",
   "pygments_lexer": "ipython3",
   "version": "3.7.3"
  },
  "widgets": {
   "state": {
    "248f5fcae0454540b7cd3ac136ba81ad": {
     "views": [
      {
       "cell_index": 11
      }
     ]
    },
    "383c4f93cc414843afd9d350dad99c75": {
     "views": [
      {
       "cell_index": 5
      }
     ]
    }
   },
   "version": "1.2.0"
  }
 },
 "nbformat": 4,
 "nbformat_minor": 1
}
