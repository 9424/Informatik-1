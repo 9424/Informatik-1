{
 "cells": [
  {
   "cell_type": "markdown",
   "metadata": {
    "deletable": false,
    "nbgrader": {
     "checksum": "78bec42b97a384da1258851020c6e40a",
     "grade": false,
     "grade_id": "cell-430d835796356075",
     "locked": false,
     "schema_version": 1,
     "solution": false
    }
   },
   "source": [
    "## Übung 5.1 (Zufallszahlen, engl. *random numbers*)\n",
    "\n",
    "- Entwickeln Sie eine Python-Funktion `werfe_wuerfel_mit_seiten`, die den Wurf eines Würfels mit $n$ Seiten [virtuell](https://de.wikipedia.org/wiki/Virtualität) simuliert (d. h. rein im Digitalrechner, was in der Bioinformatik auch lateinisch angelehnt als „[*in silico*](https://de.wikipedia.org/wiki/In_silico)“ bezeichnet wird). Verwenden Sie in Ihrer Implementierung die Funktion `randint` aus dem Modul `random` der Python-Standardbibliothek (https://docs.python.org/3/library/random.html#random.randint), um ganzzahlige sog. [Pseudozufallszahlen](https://de.wikipedia.org/wiki/Pseudozufall) zu generieren.\n",
    "\n",
    "- Konstruieren (d. h. konzipieren und implementieren) Sie für einen virtuellen Würfel mit $n=6$ Seiten einen Test zur Qualitätssicherung, um zu prüfen, ob es sich bei Ihrer Implementierung um einen fairen Würfel handelt."
   ]
  },
  {
   "cell_type": "markdown",
   "metadata": {
    "deletable": false,
    "nbgrader": {
     "checksum": "61e2a56d004d8d8ae67a9fcdfd923411",
     "grade": false,
     "grade_id": "cell-12092bd5f2adea76",
     "locked": false,
     "schema_version": 1,
     "solution": false
    }
   },
   "source": [
    "#### (a) Ihre Implementierung der Funktion `werfe_wuerfel_mit_seiten`:"
   ]
  },
  {
   "cell_type": "code",
   "execution_count": null,
   "metadata": {
    "deletable": false,
    "nbgrader": {
     "checksum": "4bf12682ccd10675634d0e03f8d9e03f",
     "grade": false,
     "grade_id": "cell-70a83466894475ee",
     "locked": false,
     "schema_version": 1,
     "solution": true
    }
   },
   "outputs": [],
   "source": [
    "import random\n",
    "\n",
    "# YOUR CODE HERE\n",
    "raise NotImplementedError()"
   ]
  },
  {
   "cell_type": "code",
   "execution_count": null,
   "metadata": {
    "deletable": false,
    "nbgrader": {
     "checksum": "cc96b22a27a50764737999a68f55cee7",
     "grade": true,
     "grade_id": "cell-0970743b0c035f78",
     "locked": false,
     "points": 0,
     "schema_version": 1,
     "solution": false
    }
   },
   "outputs": [],
   "source": [
    "for n in range(1, 20):\n",
    "    for j in range(100):\n",
    "        gewuerfelte_zahl = werfe_wuerfel_mit_seiten(n) \n",
    "        assert gewuerfelte_zahl >= 1 and gewuerfelte_zahl <= n"
   ]
  },
  {
   "cell_type": "markdown",
   "metadata": {
    "deletable": false,
    "nbgrader": {
     "checksum": "d5b750f62a69a71bfde95d5766edb830",
     "grade": false,
     "grade_id": "cell-8fd8c957cbce8e91",
     "locked": false,
     "schema_version": 1,
     "solution": false
    }
   },
   "source": [
    "#### (b) Ihr Test auf Fairness:"
   ]
  },
  {
   "cell_type": "code",
   "execution_count": null,
   "metadata": {
    "deletable": false,
    "nbgrader": {
     "checksum": "3efa13bd797422d747fe0f35cd3668d5",
     "grade": true,
     "grade_id": "cell-0826760c62c21bff",
     "locked": false,
     "points": 0,
     "schema_version": 1,
     "solution": true
    }
   },
   "outputs": [],
   "source": [
    "# YOUR CODE HERE\n",
    "raise NotImplementedError()"
   ]
  },
  {
   "cell_type": "markdown",
   "metadata": {
    "deletable": false,
    "nbgrader": {
     "checksum": "36bcc27ebc5dd171db48bb5806f8aaf6",
     "grade": false,
     "grade_id": "cell-007e984f33e27da1",
     "locked": false,
     "schema_version": 1,
     "solution": false
    }
   },
   "source": [
    "## Übung 5.2 (data compression)\n",
    "\n",
    "For devices with limited memory, data compression can be important. Data compression is\n",
    "a field of its own, but with libraries we can compress (and uncompress) data easily without being expert in\n",
    "the details.\n",
    "\n",
    "Below is a program code for compressing a passage from Hamlet, by Shakespeare."
   ]
  },
  {
   "cell_type": "code",
   "execution_count": null,
   "metadata": {
    "deletable": false,
    "nbgrader": {
     "checksum": "76fd7da1deb076195800c6277428ff17",
     "grade": false,
     "grade_id": "cell-3c2032bdba4a917a",
     "locked": false,
     "schema_version": 1,
     "solution": false
    }
   },
   "outputs": [],
   "source": [
    "# Import the compression module\n",
    "import zlib\n",
    "\n",
    "# Create a string that we wish to compress\n",
    "text = \"\"\"\n",
    "Willkommen, Rosenkranz und Güldenstern!\n",
    "Wir wünschten nicht nur sehnlich, Euch zu sehn,\n",
    "Auch das Bedürfnis Eurer Dienste trieb\n",
    "Uns zu der eilgen Sendung an. Ihr hörtet\n",
    "Von der Verwandlung Hamlets schon; so nenn ichs,\n",
    "Weil nicht der äußre noch der innre Mensch\n",
    "Dem gleicht, was sonst er war. Was es nur ist,\n",
    "Mehr als des Vaters Tod, das ihn so weit\n",
    "Von dem Verständnis seiner selbst gebracht,\n",
    "Kann ich nicht raten. Ich ersuch Euch beide,\n",
    "Da Ihr von Kindheit auf mit ihm erzogen\n",
    "Und seiner Laun und Jugend nahe bliebt,\n",
    "Ihr wollet hier an unserm Hof verweilen\n",
    "Auf einge Zeit, um ihn durch Euren Umgang\n",
    "In Lustbarkeit zu ziehn und zu erspähn,\n",
    "Soweit der Anlaß auf die Spur Euch bringt,\n",
    "Ob irgendwas, uns unbekannt, ihn drückt,\n",
    "Das, offenbart, zu heilen wir vermöchten.\"\"\"\n",
    "\n",
    "# Convert Python string to bytes and check type\n",
    "text_bytes = text.encode(\"utf-8\")\n",
    "print(type(text_bytes))\n",
    "\n",
    "# Get number of bytes used to store string\n",
    "print(\"Number of bytes for uncompressed string:\", len(text_bytes))\n",
    "\n",
    "# Compress string and get number of byes used for compressed string\n",
    "text_comp = zlib.compress(text_bytes)\n",
    "print(\"Number of bytes for compressed string:\", len(text_comp))\n",
    "\n",
    "# Display the compression efficiency\n",
    "print(\"Compression efficiency: \", len(text_comp)/len(text_bytes))\n",
    "\n",
    "# Decompress the string\n",
    "text_decomp = zlib.decompress(text_comp)\n",
    "\n",
    "# Check that original and decompressed string are the same (more on aseret)\n",
    "if text != text_decomp.decode(\"utf-8\"):\n",
    "    print(\"Problem: original and decompressed string differ.\")"
   ]
  },
  {
   "cell_type": "markdown",
   "metadata": {
    "deletable": false,
    "editable": false,
    "nbgrader": {
     "checksum": "0fe54aee845d95687889dc19b435ba77",
     "grade": false,
     "grade_id": "cell-f80062a015942c13",
     "locked": true,
     "schema_version": 1,
     "solution": false
    }
   },
   "source": [
    "Using the above as a guide, examine the compression efficiency of \n",
    "\n",
    "1. Compressing one large string made up of the the passage by Shakespeare repeated 100 times; and\n",
    "2. Compressing a random string of the same length as the repeated Shakespeare passage.\n",
    "\n",
    "To help you, the below function generates random string of length `N`:"
   ]
  },
  {
   "cell_type": "code",
   "execution_count": null,
   "metadata": {
    "deletable": false,
    "editable": false,
    "nbgrader": {
     "checksum": "28a57abbb021d924834ef4705e0f90bb",
     "grade": false,
     "grade_id": "cell-6e2a283ca091e187",
     "locked": true,
     "schema_version": 1,
     "solution": false
    }
   },
   "outputs": [],
   "source": [
    "import random\n",
    "import string\n",
    "\n",
    "def random_string(N):\n",
    "    return ''.join([random.choice(string.ascii_letters + string.digits) for n in range(N)])\n",
    "\n",
    "print(random_string(8))"
   ]
  },
  {
   "cell_type": "markdown",
   "metadata": {},
   "source": [
    "### Solution"
   ]
  },
  {
   "cell_type": "code",
   "execution_count": null,
   "metadata": {
    "deletable": false,
    "editable": false,
    "nbgrader": {
     "checksum": "f2cd0f781558ed7eb4413c8b2c2198cf",
     "grade": false,
     "grade_id": "cell-169d40e6f3aadc18",
     "locked": true,
     "schema_version": 1,
     "solution": false
    }
   },
   "outputs": [],
   "source": [
    "# Create a string\n",
    "text = \"\"\"\n",
    "Welcome, dear Rosencrantz and Guildenstern!\n",
    "Moreover that we much did long to see you,\n",
    "The need we have to use you did provoke\n",
    "Our hasty sending. Something have you heard\n",
    "Of Hamlet's transformation; so call it,\n",
    "Sith nor the exterior nor the inward man\n",
    "Resembles that it was. What it should be,\n",
    "More than his father's death, that thus hath put him\n",
    "So much from the understanding of himself,\n",
    "I cannot dream of: I entreat you both,\n",
    "That, being of so young days brought up with him,\n",
    "And sith so neighbour'd to his youth and havior,\n",
    "That you vouchsafe your rest here in our court\n",
    "Some little time: so by your companies\n",
    "To draw him on to pleasures, and to gather,\n",
    "So much as from occasion you may glean,\n",
    "Whether aught, to us unknown, afflicts him thus,\n",
    "That, open'd, lies within our remedy.\"\"\""
   ]
  },
  {
   "cell_type": "markdown",
   "metadata": {
    "deletable": false,
    "editable": false,
    "nbgrader": {
     "checksum": "5ff95e98d7993220b5b491a4081c44c0",
     "grade": false,
     "grade_id": "cell-6dd8e7572f189eff",
     "locked": true,
     "schema_version": 1,
     "solution": false
    }
   },
   "source": [
    "Import the necessary modules:"
   ]
  },
  {
   "cell_type": "code",
   "execution_count": null,
   "metadata": {
    "deletable": false,
    "editable": false,
    "nbgrader": {
     "checksum": "1f92d1231c21a688b037ef6d9cc9294a",
     "grade": false,
     "grade_id": "cell-93be06c0b8818e9e",
     "locked": true,
     "schema_version": 1,
     "solution": false
    }
   },
   "outputs": [],
   "source": [
    "import random\n",
    "import string\n",
    "import zlib"
   ]
  },
  {
   "cell_type": "markdown",
   "metadata": {
    "deletable": false,
    "editable": false,
    "nbgrader": {
     "checksum": "79b8ee9892e83429e39f65d2e075fa45",
     "grade": false,
     "grade_id": "cell-6c9348155e28f467",
     "locked": true,
     "schema_version": 1,
     "solution": false
    }
   },
   "source": [
    "Repeat the Shakespeare string 100 times, and compress:"
   ]
  },
  {
   "cell_type": "code",
   "execution_count": null,
   "metadata": {
    "deletable": false,
    "nbgrader": {
     "checksum": "edac5251a56b1190fee5c9e7349d3f63",
     "grade": false,
     "grade_id": "cell-c08bb020d9be6620",
     "locked": false,
     "schema_version": 1,
     "solution": true
    }
   },
   "outputs": [],
   "source": [
    "# Create string of Shakespeare passage repeated 100 times\n",
    "# YOUR CODE HERE\n",
    "raise NotImplementedError()"
   ]
  },
  {
   "cell_type": "markdown",
   "metadata": {
    "deletable": false,
    "editable": false,
    "nbgrader": {
     "checksum": "16883ec26de137558d302ac47ad9743c",
     "grade": false,
     "grade_id": "cell-ea781714f8a7db87",
     "locked": true,
     "schema_version": 1,
     "solution": false
    }
   },
   "source": [
    "Create random string and compress:"
   ]
  },
  {
   "cell_type": "code",
   "execution_count": null,
   "metadata": {
    "deletable": false,
    "nbgrader": {
     "checksum": "b7442cbb06e29f3f3ca705b05487f55c",
     "grade": false,
     "grade_id": "cell-c5d8c07589ec3cd1",
     "locked": false,
     "schema_version": 1,
     "solution": true
    }
   },
   "outputs": [],
   "source": [
    "# YOUR CODE HERE\n",
    "raise NotImplementedError()"
   ]
  },
  {
   "cell_type": "markdown",
   "metadata": {
    "deletable": false,
    "editable": false,
    "nbgrader": {
     "checksum": "c6cc082101b86f87ac9d8df2b18b307e",
     "grade": false,
     "grade_id": "cell-36c10b63438d6d4a",
     "locked": true,
     "schema_version": 1,
     "solution": false
    }
   },
   "source": [
    "Compare compression efficiency:"
   ]
  },
  {
   "cell_type": "code",
   "execution_count": null,
   "metadata": {
    "deletable": false,
    "nbgrader": {
     "checksum": "66aa622e93c710b8a7ce0d6bcb6f5ff3",
     "grade": true,
     "grade_id": "cell-a2dd98ee370e22a3",
     "locked": false,
     "points": 0,
     "schema_version": 1,
     "solution": true
    }
   },
   "outputs": [],
   "source": [
    "# YOUR CODE HERE\n",
    "raise NotImplementedError()"
   ]
  }
 ],
 "metadata": {
  "kernelspec": {
   "display_name": "Python 3",
   "language": "python",
   "name": "python3"
  },
  "language_info": {
   "codemirror_mode": {
    "name": "ipython",
    "version": 3
   },
   "file_extension": ".py",
   "mimetype": "text/x-python",
   "name": "python",
   "nbconvert_exporter": "python",
   "pygments_lexer": "ipython3",
   "version": "3.7.3"
  }
 },
 "nbformat": 4,
 "nbformat_minor": 1
}
