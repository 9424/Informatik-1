{
 "cells": [
  {
   "cell_type": "markdown",
   "metadata": {},
   "source": [
    "## Übung 2.1 (if-else-Anweisung)\n",
    "\n",
    "Gegeben sei das folgende Bewertungsschema, nach welchem die in einer Prüfungsleistung vom Prüfling erreichte Punktzahl auf einen Bewertungskommentar abgebildet wird:\n",
    "\n",
    "| Bewertungskommentar         | erreichte Punktzahl $p$ (von 100)  |\n",
    "| --------------------------- | ---------------------------------- |\n",
    "| hervorragend                | $p \\ge 82$                         |\n",
    "| sehr gut                    | $76,5 \\le p < 82$                  |\n",
    "| gut                         | $66 \\le p < 76,5$                  |\n",
    "| Da ist noch Luft nach oben! | $45 \\le p < 66$                    |\n",
    "| Haben Sie es denn versucht? | $p < 45$                           |\n",
    "\n",
    "Schreiben Sie ein Python-Programm, das zu einer erreichten Punktzahl den zugehörigen Bewertungskommentar ausgibt."
   ]
  },
  {
   "cell_type": "code",
   "execution_count": null,
   "metadata": {
    "deletable": false,
    "nbgrader": {
     "checksum": "a514c1218467051dab6b6e4fa054bc90",
     "grade": false,
     "grade_id": "cell-71121f470be22e4a",
     "locked": false,
     "schema_version": 1,
     "solution": true
    }
   },
   "outputs": [],
   "source": [
    "# YOUR CODE HERE\n",
    "raise NotImplementedError()"
   ]
  },
  {
   "cell_type": "markdown",
   "metadata": {},
   "source": [
    "## Übung 2.2 (Bisektionsverfahren)\n",
    "\n",
    "Beim Bisektions- bzw. Intervallhalbierungsverfahren handelt es sich um eine Technik, um beispielsweise iterativ nach den Nullstellen einer gegebenen Funktion zu suchen (siehe https://de.wikipedia.org/wiki/Bisektion für einen Überblick über die Anwendungen dieser Technik anhand von Beispielen). Nehmen wir an, die Funktion $f(x)$ hat eine Nullstelle zwischen $x_{0}$ und $x_{1}$ ($x_{0} < x_{1}$). Wir ...\n",
    "\n",
    "- werten $f$ an der mittigen Zwischenstelle $x_{\\rm m} = (x_0 + x_1)/2$ aus, d. h. wir berechnen\n",
    "   $f_{\\rm m} = f(x_{\\rm m})$\n",
    "- berechnen $f(x_0) \\cdot f(x_{\\rm m})$\n",
    "\n",
    "  - wenn $f(x_0) \\cdot f(x_{\\rm m}) < 0$, \n",
    "\n",
    "    muss $f$ in seinem Werteverlauf irgendwo zwischen $x_0$ and $x_{\\rm m}$ einen Vorzeichenwechsel aufweisen, daher muss eine Nullstelle von $f$ zwischen $x_0$ und $x_{\\rm m}$ liegen, weshalb wir $x_{\\rm m}$ an $x_1$ zuweisen.\n",
    "   \n",
    "  - sonst:\n",
    "\n",
    "    muss $f$ in seinem Werteverlauf irgendwo zwischen $x_{\\rm m}$ und $x_1$ einen Vorzeichenwechsel aufweisen, weshalb wir  $x_{\\rm m}$ an $x_0$ zuweisen.\n",
    "\n",
    "Die obigen Schritte können eine gewisse Anzahl mal oder solange wiederholt ausgeführt werden, bis $|f_{\\rm m}|$ unter einer spefizierten (d. h. „ingenieurmäßig“ vorgegebenen) Toleranzschwelle liegt (manchmal technisch auch als sog. „Schwellenwert“ bezeichnet), woraufhin das resultierende $x_{\\rm m}$ als angenäherte („approximierte“) Nullstelle ausgegeben wird.\n",
    "\n",
    "\n",
    "### Aufgabe\n",
    "\n",
    "Die Funktion\n",
    "\n",
    "$$\n",
    "f(x) = x^3 - 6x^2 + 4x + 12\n",
    "$$\n",
    "\n",
    "hat eine Nullstelle irgendwo zwischen $x_0 = 3$ und $x_1 = 6$.\n",
    "\n",
    "1. Wenden Sie das Biseketionsverfahren an, um eine approximierte Nullstelle $x_{n}$ mit 15 Iterationen unter Verwendung einer `for`-Schleife zu suchen.\n",
    "2. Wenden Sie das Biseketionsverfahren an, um eine approximierte Nullstelle $x_{n}$ unter Verwendung einer `while`-Schleife zu suchen, so dass $\\left| f(x_{n}) \\right| < 10^{-6}$ ist und geben Sie auch die dafür benötigte Anzahl an Iterationen mit aus.\n",
    "\n",
    "Speichern Sie die angenäherte Nullstelle in der Variablen `x_m` und speichern Sie $f(x_{\\rm m})$ in einer Variablen mit dem Bezeichner `f`.\n",
    "\n",
    "*Hinweis:* Verwenden Sie `abs` um den „Absolutbetrag“ (kurz: den „Betrag“) einer Zahl zu berechnen, z. B. `y = abs(x)` weist den Absolutbetrag des numerischen Inhaltes der Variablen mit Bezeichner `x` an die Variable mit Bezeichner `y` zu. "
   ]
  },
  {
   "cell_type": "markdown",
   "metadata": {},
   "source": [
    "#### (1) Verwendung einer `for`-Schleife:"
   ]
  },
  {
   "cell_type": "code",
   "execution_count": null,
   "metadata": {
    "deletable": false,
    "nbgrader": {
     "checksum": "ee3cd280d0ab20bacff2198885db439f",
     "grade": false,
     "grade_id": "cell-3a0d0a59613d6b3f",
     "locked": false,
     "schema_version": 1,
     "solution": true
    }
   },
   "outputs": [],
   "source": [
    "# Initiale (d. h. \"anfängliche\") Intervallgrenzen\n",
    "x0 = 3.0\n",
    "x1 = 6.0\n",
    "\n",
    "# Verwende 15 Wiederholungen (\"Iterationen\")\n",
    "for n in range(15):\n",
    "    # Berechne die Intervallmitte (d. h. die mittige Zwischenstelle zwischen den Intervallgrenzen)\n",
    "    x_m = (x0 + x1) / 2\n",
    "\n",
    "    # Werte die Funktion an der linken Intervallgrenze (x0) und in der Intervallmitte (x_m) aus\n",
    "    f0 = x0**3 - 6*x0**2 + 4*x0 + 12\n",
    "    f = x_m**3 - 6*x_m**2 + 4*x_m + 12\n",
    "    \n",
    "    # YOUR CODE HERE\n",
    "    raise NotImplementedError()\n",
    "\n",
    "    print(n, x_m, f)"
   ]
  },
  {
   "cell_type": "code",
   "execution_count": null,
   "metadata": {
    "deletable": false,
    "editable": false,
    "nbgrader": {
     "checksum": "300a5759e0f5b564a00fa0e9acee6f68",
     "grade": true,
     "grade_id": "cell-421824bbd4e61fae",
     "locked": true,
     "points": 0,
     "schema_version": 1,
     "solution": false
    }
   },
   "outputs": [],
   "source": [
    "assert round(x_m - 4.534149169921875, 10) == 0.0\n",
    "assert abs(f) < 0.0009"
   ]
  },
  {
   "cell_type": "markdown",
   "metadata": {},
   "source": [
    "#### (2) Verwendung einer `while`-Schleife:\n",
    "\n",
    "Nutzen Sie die Variable `zaehler`, um die Anzahl der Iterationen mitzuzählen. \n",
    "\n",
    "*Denken Sie auch an den Mechanismus zum Schutz vor einer Endlosschleife.*"
   ]
  },
  {
   "cell_type": "code",
   "execution_count": null,
   "metadata": {
    "deletable": false,
    "nbgrader": {
     "checksum": "cc52d8a36b886950be06af5bfa258206",
     "grade": false,
     "grade_id": "cell-1747a3fb1dd1de48",
     "locked": false,
     "schema_version": 1,
     "solution": true
    }
   },
   "outputs": [],
   "source": [
    "# Initiale Intervallgrenzen\n",
    "x0 = 3.0\n",
    "x1 = 6.0\n",
    "\n",
    "tolerenz = 1.0e-6\n",
    "abweichung = toleranz + 1.0\n",
    "\n",
    "# Iterate until tolerance is met\n",
    "zaehler = 0\n",
    "while abweichung > toleranz:\n",
    "    # YOUR CODE HERE\n",
    "    raise NotImplementedError()\n",
    "\n",
    "    # Schutzmechanismus vor einer Endlosschleife\n",
    "    if zaehler > 1000:\n",
    "        print(\"Uups, der Iterationszähler hat einen sehr großen Wert. Ausbruch aus der while-Schleife.\")\n",
    "        break\n",
    "    \n",
    "    print(zaehler, x_m, abweichung)"
   ]
  },
  {
   "cell_type": "code",
   "execution_count": null,
   "metadata": {
    "deletable": false,
    "editable": false,
    "nbgrader": {
     "checksum": "5604f410d2134838760ac580a9b40f73",
     "grade": true,
     "grade_id": "cell-ddff32f44df88388",
     "locked": true,
     "points": 0,
     "schema_version": 1,
     "solution": false
    }
   },
   "outputs": [],
   "source": [
    "assert zaehler == 23\n",
    "assert abs(f) < 1.0e-6"
   ]
  },
  {
   "cell_type": "markdown",
   "metadata": {
    "collapsed": true
   },
   "source": [
    "## Übung 2.3 (Reihenentwicklung)\n",
    "\n",
    "Eine Potenzreihenentwicklung der Sinusfunktion (zum Begriff der „Potenzreihe“ siehe z. B. https://de.wikipedia.org/wiki/Reihenentwicklung als Ausgangspunkt für die Hintergründe) ist gegeben durch die folgende Formel: \n",
    "\n",
    "$$\n",
    "\\sin(x) = \\sum_{n = 0}^{\\infty} (-1)^n \\frac{x^{2n +1}}{(2n+1)!}\n",
    "$$\n",
    "\n",
    "1. Unter Verwendung einer `for`-Schleife: Nähern Sie $\\sin(\\frac{3\\pi}{2})$ mit den ersten 15 Summanden der oben gegebenen Potenzreihe für $ \\sin(x)$ an und berichten Sie den verbleibenden „absoluten Fehler“ (d. h. den Absolutbetrag des Fehlers).\n",
    "\n",
    "1. Unter Verwendung einer `while`-Schleife: Berechnen Sie wie viele Summanden der oben gegebenen Potenzreihenformel für $\\sin(x)$ erforderlich sind, um $\\sin(\\frac{3\\pi}{2})$ unterhalb einer Toleranzgrenze von $10^{-8}$ für den absoluten Fehler zu approximieren. \n",
    "\n",
    "Speichern Sie den Absolutbetrag des Fehlers in der Variablen `fehler`.\n",
    "\n",
    "*Hinweis:* Taschenrechner und auch die leistungsfähigeren „Computer“ (alles Arten von sog. „Digitalrechnern“ als informatischer Oberbegriff) verwenden im Allgemeinen derartige Iterationsverfahren oder Reihenentwicklungen, um beispielsweise die Werte trigonometrischer Funktionen zu berechnen, ganz ähnlich wie in den obigen beiden Aufgabenstellungen, wenngleich sie auch in der Regel effizientere Formulierungen als die im obigen Beispiel angegebene Potenzreihenformel für $\\sin(x)$ verwenden.\n",
    "\n",
    "### Hinweis\n",
    "\n",
    "Verwenden Sie das Modul `math` aus der Python-Standardbibliothek, um die Fakultät zu berechnen und eine gute Näherung für die der Kreiszahl $\\pi$ zu erhalten:\n",
    "```python\n",
    "import math\n",
    "n = 10\n",
    "n_fakultaet = math.factorial(n)\n",
    "pi = math.pi\n",
    "```\n",
    "Sie müssen die Anweisung `import math` nur einmal zu Beginn Ihres Programms geben. Modulewie  `math`aus der Python-Standardbibliothek werden wir später noch behandeln. Um den Wert der Sinusfunktion für nicht einfache Winkel im Bogenmaß zu bestimmen, können Sie sich am folgenden Beispiel orientieren:\n",
    "```python\n",
    "alpha = 1.3\n",
    "sinus_alpha = math.sin(alpha)\n",
    "```    \n",
    "um damit den absoluten Fehler Ihrer eigenen Implentierung gegenüber einer genauen Berechnung der Sinusfunktion zu ermitteln."
   ]
  },
  {
   "cell_type": "markdown",
   "metadata": {},
   "source": [
    "#### (1)  Verwendung einer `for`-Schleife:"
   ]
  },
  {
   "cell_type": "code",
   "execution_count": null,
   "metadata": {
    "deletable": false,
    "nbgrader": {
     "checksum": "105cfce8eabbd37a7afaee8203d6bd3b",
     "grade": false,
     "grade_id": "cell-d6df4b428f969a5d",
     "locked": false,
     "schema_version": 1,
     "solution": true
    }
   },
   "outputs": [],
   "source": [
    "# Importiere das Standardmodul zur Mathematik von Python für den Zugriff auf math.sin and math.factorial\n",
    "import math\n",
    "\n",
    "# Winkelwert im Bogenmaß, für den die Sinusunktion ausgewertet werden soll\n",
    "x = 1.5 * math.pi\n",
    "\n",
    "# Initiale Approximation der Sinusfunktion\n",
    "approx_sin = 0.0\n",
    "\n",
    "# YOUR CODE HERE\n",
    "raise NotImplementedError()\n",
    "    \n",
    "print(\"Der absolute Fehler ist:\")\n",
    "print(fehler)"
   ]
  },
  {
   "cell_type": "code",
   "execution_count": null,
   "metadata": {
    "deletable": false,
    "editable": false,
    "nbgrader": {
     "checksum": "e96bb82c27a0c914a648526edbe13d26",
     "grade": true,
     "grade_id": "cell-8b269b717e92414d",
     "locked": true,
     "points": 0,
     "schema_version": 1,
     "solution": false
    }
   },
   "outputs": [],
   "source": [
    "assert fehler < 1.0e-12"
   ]
  },
  {
   "cell_type": "markdown",
   "metadata": {},
   "source": [
    "#### (2) Verwendung einer `while`-Schleife:\n",
    "\n",
    "*Denken Sie auch an den Schutz vor einer Endlosschleife.*"
   ]
  },
  {
   "cell_type": "code",
   "execution_count": null,
   "metadata": {
    "deletable": false,
    "nbgrader": {
     "checksum": "f7c4320acbc1a64d9d8423de7111714b",
     "grade": false,
     "grade_id": "cell-03df25d83df3674e",
     "locked": false,
     "schema_version": 1,
     "solution": true
    }
   },
   "outputs": [],
   "source": [
    "# Importiere das Standardmodul zur Mathematik von Python für den Zugriff auf math.sin and math.factorial\n",
    "import math\n",
    "\n",
    "# Winkelwert im Bogenmaß, für den die Sinusunktion ausgewertet werden soll\n",
    "x = 1.5 * math.pi\n",
    "\n",
    "# Toleranz und initialer absoluter Fehler, der nur größer als die Toleranz sein muss\n",
    "toleranz = 1.0e-8\n",
    "fehler = toleranz + 1.0\n",
    "\n",
    "# Initiale Approximation der Sinusfunktion\n",
    "approx_sin = 0.0\n",
    "\n",
    "# Anfangswert des Zählers für die Wiederholungen\n",
    "n = 0\n",
    "\n",
    "# Loop until error satisfies tolerance, with a check to avoid \n",
    "# an infinite loop\n",
    "while fehler > toleranz and n < 1000:\n",
    "    \n",
    "    # YOUR CODE HERE\n",
    "    raise NotImplementedError()\n",
    "    \n",
    "    # Increment counter\n",
    "    n += 1    \n",
    "    \n",
    "    \n",
    "print(\"Der absolute Fehler ist:\")\n",
    "print(fehler)\n",
    "\n",
    "print(\"Die Anzahl erforderlicher Summanden der Reihenentwicklung von sin(x) war:\")\n",
    "print(n)"
   ]
  },
  {
   "cell_type": "code",
   "execution_count": null,
   "metadata": {
    "deletable": false,
    "editable": false,
    "nbgrader": {
     "checksum": "7e9cf956faf5c223affc2cc9a50d4cf5",
     "grade": true,
     "grade_id": "cell-03df25d83df3674dfwe",
     "locked": true,
     "points": 0,
     "schema_version": 1,
     "solution": false
    }
   },
   "outputs": [],
   "source": [
    "assert fehler <= 1.0e-8"
   ]
  }
 ],
 "metadata": {
  "kernelspec": {
   "display_name": "Python 3",
   "language": "python",
   "name": "python3"
  },
  "language_info": {
   "codemirror_mode": {
    "name": "ipython",
    "version": 3
   },
   "file_extension": ".py",
   "mimetype": "text/x-python",
   "name": "python",
   "nbconvert_exporter": "python",
   "pygments_lexer": "ipython3",
   "version": "3.6.8"
  }
 },
 "nbformat": 4,
 "nbformat_minor": 1
}
