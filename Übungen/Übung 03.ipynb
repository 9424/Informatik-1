{
 "cells": [
  {
   "cell_type": "markdown",
   "metadata": {
    "nbgrader": {
     "checksum": "8ceeabcb46de5ad626384fc60e218d16",
     "grade": false,
     "grade_id": "cell-bccc9a5624d0e0f9",
     "locked": false,
     "schema_version": 1,
     "solution": false
    }
   },
   "source": [
    "## Übung 3.1\n",
    "\n",
    "Vergleichen Sie die zahlenmäßig ausgewerteten („quantitativen“) Ergebnisse von \n",
    "\n",
    "$$ \n",
    "d_0 = a \\cdot b + a \\cdot c\n",
    "$$\n",
    "\n",
    "und \n",
    "\n",
    "$$ \n",
    "d_1 = a \\cdot (b + c)\n",
    "$$\n",
    "\n",
    "für $a = 100$, $b = \\text{0,1}$ und $c = \\text{0,2}$. Speichern Sie $d_{0}$ in der Variablen `d0` und $d_{1}$ in der Variablen `d1`.\n",
    "\n",
    "\n",
    "Versuchen Sie anschließend, die beiden berechneten Ergebnisse auf Gleichheit zu überprüfen, z. B. `print(d0 == d1)`. "
   ]
  },
  {
   "cell_type": "code",
   "execution_count": null,
   "metadata": {
    "deletable": false,
    "nbgrader": {
     "checksum": "30e30b82e08f44a2f3f834314203be69",
     "grade": false,
     "grade_id": "cell-447110c225124fc4",
     "locked": false,
     "schema_version": 1,
     "solution": true
    }
   },
   "outputs": [],
   "source": [
    "# YOUR CODE HERE\n",
    "raise NotImplementedError()"
   ]
  },
  {
   "cell_type": "code",
   "execution_count": null,
   "metadata": {
    "deletable": false,
    "editable": false,
    "nbgrader": {
     "checksum": "56a58c181d43d8dbad56dff6ed45377a",
     "grade": true,
     "grade_id": "cell-91f2d89d88ea86c0",
     "locked": true,
     "points": 0,
     "schema_version": 1,
     "solution": false
    }
   },
   "outputs": [],
   "source": [
    "assert d0 == 30.0\n",
    "assert d1 != 30.0\n",
    "assert d0 != d1"
   ]
  },
  {
   "cell_type": "markdown",
   "metadata": {},
   "source": [
    "## Übung 3.2\n",
    "\n",
    "Werten Sie mit Python das folgende Polynom aus: \n",
    "\\begin{align}\n",
    "f(x, y) &= (x + y)^{6} \n",
    "\\\\\n",
    "&=  x^6 + 6x^{5}y + 15x^{4}y^{2} + 20x^{3}y^{3} + 15x^{2}y^{4} + 6xy^{5} + y^{6}\n",
    "\\end{align}\n",
    "(i) in der kompakten Form $(x + y)^{6}$; und (ii) in der ausmultiplizierten Langform für:\n",
    "\n",
    "(a) $x = 10$ und $y = \\text{10,1}$\n",
    "\n",
    "(b) $x = 10$ und $y = -\\text{10,1}$\n",
    "\n",
    "und vergleichen Sie die Anzahl der signifikanten Stellen, für die für (i) und (ii) die berechneten Ergebnisse übereinstimmen. Speichern Sie das Ergebnis der kompaktenm Form in einer Variablen mit Bezeichner `f0` und das der ausmultiplizierten Langform in einer Variablen mit Bezeichner `f1`.\n",
    "\n",
    "Vergleichen Sie für den Variablenbelegungsfall (b) die von Python ausgewerteten Ergebnisse mit Ihrer analytischen Lösung und bestimmen Sie den [relativen Fehler](https://de.wikipedia.org/wiki/Fehlerschranke).\n",
    "Welche der beiden Rechenwege (i) oder (ii) würden Sie zur numerischen Berechnung des Polynoms mit Python empfehlen?"
   ]
  },
  {
   "cell_type": "markdown",
   "metadata": {},
   "source": [
    "#### (a) $x = 10$ und $y = \\text{10,1}$"
   ]
  },
  {
   "cell_type": "code",
   "execution_count": null,
   "metadata": {
    "deletable": false,
    "nbgrader": {
     "checksum": "908f40d0d9b9a84a5daeb5f1d2a18a3c",
     "grade": false,
     "grade_id": "cell-e8428e3de87d5500",
     "locked": false,
     "schema_version": 1,
     "solution": true
    }
   },
   "outputs": [],
   "source": [
    "x = 10.0\n",
    "y = 10.1\n",
    "\n",
    "# YOUR CODE HERE\n",
    "raise NotImplementedError()"
   ]
  },
  {
   "cell_type": "code",
   "execution_count": null,
   "metadata": {
    "deletable": false,
    "editable": false,
    "nbgrader": {
     "checksum": "a4940106bcc4e616b922050d78981780",
     "grade": true,
     "grade_id": "cell-55d184514edf3a67",
     "locked": true,
     "points": 0,
     "schema_version": 1,
     "solution": false
    }
   },
   "outputs": [],
   "source": [
    "import math\n",
    "assert math.isclose(f0, 65944160.60120103, rel_tol=1e-10)\n",
    "assert math.isclose(f1, 65944160.601201, rel_tol=1e-10)"
   ]
  },
  {
   "cell_type": "markdown",
   "metadata": {},
   "source": [
    "#### (b) $x = 10$ und $y = -\\text{10,1}$"
   ]
  },
  {
   "cell_type": "code",
   "execution_count": null,
   "metadata": {
    "deletable": false,
    "nbgrader": {
     "checksum": "e36a4f376b117817ad05ca02c2bda3c6",
     "grade": false,
     "grade_id": "cell-1561d20281ff67f6",
     "locked": false,
     "schema_version": 1,
     "solution": true
    }
   },
   "outputs": [],
   "source": [
    "x = 10.0\n",
    "y = -10.1\n",
    "\n",
    "# YOUR CODE HERE\n",
    "raise NotImplementedError()"
   ]
  },
  {
   "cell_type": "code",
   "execution_count": null,
   "metadata": {},
   "outputs": [],
   "source": [
    "import math\n",
    "assert math.isclose(f0, 1.0e-6, rel_tol=1e-10)\n",
    "assert math.isclose(f1, 1.0e-6, rel_tol=1e-2)"
   ]
  },
  {
   "cell_type": "markdown",
   "metadata": {},
   "source": [
    "## Übung 3.3\n",
    "\n",
    "Gegeben sei der Rechenausdruck\n",
    "\n",
    "$$\n",
    "f = \\frac{1}{\\sqrt{x^2 - 1} - x}\n",
    "$$\n",
    "\n",
    "Wenn die Variable $x$ zählenmäßig sehr groß wird, nähert sich der Nenner der Zahl Null, was zu Problemen führen kann.\n",
    "\n",
    "Versuchen Sie den Rechenausdruck für $f$ zu umzuformulieren, dass der Bruch eleminiert wird, indem Sie Zähler und Nenner mit $\\sqrt{x^2 - 1} + x$ multiplizieren. Werten Sie die beiden Formulierungen von $f$ aus für:\n",
    "\n",
    "(a) $x = 1 \\cdot 10^{7}$\n",
    "\n",
    "(b) $x = 1 \\cdot 10^{9}$ (Möglicherweise erhalten Sie für diesen Fall einen Python-Fehler.\n",
    "Warum?)"
   ]
  },
  {
   "cell_type": "markdown",
   "metadata": {
    "deletable": false,
    "nbgrader": {
     "checksum": "c09b66f37bdee28ed52c52b6017f2cf2",
     "grade": false,
     "grade_id": "cell-53e1abf388eedabe",
     "locked": false,
     "schema_version": 1,
     "solution": false
    }
   },
   "source": [
    "#### (a) $x = 1 \\cdot 10^{7}$"
   ]
  },
  {
   "cell_type": "code",
   "execution_count": null,
   "metadata": {
    "deletable": false,
    "nbgrader": {
     "checksum": "07ff77b706b18c392edfb815685a3bc3",
     "grade": true,
     "grade_id": "cell-149ac8791e7ff020",
     "locked": false,
     "points": 0,
     "schema_version": 1,
     "solution": true
    }
   },
   "outputs": [],
   "source": [
    "# YOUR CODE HERE\n",
    "raise NotImplementedError()"
   ]
  },
  {
   "cell_type": "markdown",
   "metadata": {
    "deletable": false,
    "nbgrader": {
     "checksum": "c2132f7f9da6593c6536e19435aeeab7",
     "grade": false,
     "grade_id": "cell-bcc863a1c5c8a6f8",
     "locked": false,
     "schema_version": 1,
     "solution": false
    }
   },
   "source": [
    "#### (b) $x = 1 \\cdot 10^{9}$"
   ]
  },
  {
   "cell_type": "code",
   "execution_count": null,
   "metadata": {
    "deletable": false,
    "nbgrader": {
     "checksum": "c2e05e9fd5ffdd3901355b52c90169ba",
     "grade": true,
     "grade_id": "cell-4ef986ef1f5838ba",
     "locked": false,
     "points": 0,
     "schema_version": 1,
     "solution": true
    }
   },
   "outputs": [],
   "source": [
    "# YOUR CODE HERE\n",
    "raise NotImplementedError()"
   ]
  }
 ],
 "metadata": {
  "kernelspec": {
   "display_name": "Python 3",
   "language": "python",
   "name": "python3"
  },
  "language_info": {
   "codemirror_mode": {
    "name": "ipython",
    "version": 3
   },
   "file_extension": ".py",
   "mimetype": "text/x-python",
   "name": "python",
   "nbconvert_exporter": "python",
   "pygments_lexer": "ipython3",
   "version": "3.7.3"
  }
 },
 "nbformat": 4,
 "nbformat_minor": 1
}
