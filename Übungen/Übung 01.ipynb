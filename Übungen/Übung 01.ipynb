{
 "cells": [
  {
   "cell_type": "markdown",
   "metadata": {},
   "source": [
    "## Übung 01.1\n",
    "\n",
    "Grad Fahrenheit ($T_F$) lassen sich mit der folgenden Formel in Grad Celsius ($T_C$) umrechnen:\n",
    "\n",
    "$\n",
    "T_C = 5(T_F - 32)/9\n",
    "$\n",
    "\n",
    "Schreiben Sie ein Programm, das 78 Grad Fahrenheit in Grad Celsius umrechnet und das Ergebnis in der Konsole ausgibt.\n",
    "Schreiben Sie Ihr Programm so, dass es einfach ist, den umzurechnenden Grad Fahrenheit Wert zu verändern, ohne den Code für die Umrechnungsformel selbst ändern zu müssen.\n",
    "\n",
    "Verwenden Sie eine Variable mit dem Namen `T_C` für den Temperaturwert in Grad Celsius."
   ]
  },
  {
   "cell_type": "code",
   "execution_count": 1,
   "metadata": {
    "deletable": false,
    "nbgrader": {
     "checksum": "9aad06999d15d78fbcee70dcbca838c7",
     "grade": false,
     "grade_id": "cell-ca2d6af7fabf2918",
     "locked": false,
     "schema_version": 1,
     "solution": true
    }
   },
   "outputs": [
    {
     "ename": "NotImplementedError",
     "evalue": "",
     "output_type": "error",
     "traceback": [
      "\u001b[1;31m---------------------------------------------------------------------------\u001b[0m",
      "\u001b[1;31mNotImplementedError\u001b[0m                       Traceback (most recent call last)",
      "\u001b[1;32m<ipython-input-1-814b3cd634cc>\u001b[0m in \u001b[0;36m<module>\u001b[1;34m\u001b[0m\n\u001b[0;32m      1\u001b[0m \u001b[0mT_F\u001b[0m \u001b[1;33m=\u001b[0m \u001b[1;36m78\u001b[0m\u001b[1;33m\u001b[0m\u001b[1;33m\u001b[0m\u001b[0m\n\u001b[0;32m      2\u001b[0m \u001b[1;31m# YOUR CODE HERE\u001b[0m\u001b[1;33m\u001b[0m\u001b[1;33m\u001b[0m\u001b[1;33m\u001b[0m\u001b[0m\n\u001b[1;32m----> 3\u001b[1;33m \u001b[1;32mraise\u001b[0m \u001b[0mNotImplementedError\u001b[0m\u001b[1;33m(\u001b[0m\u001b[1;33m)\u001b[0m\u001b[1;33m\u001b[0m\u001b[1;33m\u001b[0m\u001b[0m\n\u001b[0m",
      "\u001b[1;31mNotImplementedError\u001b[0m: "
     ]
    }
   ],
   "source": [
    "T_F = 78\n",
    "# YOUR CODE HERE\n",
    "raise NotImplementedError()"
   ]
  },
  {
   "cell_type": "code",
   "execution_count": null,
   "metadata": {
    "deletable": false,
    "editable": false,
    "nbgrader": {
     "checksum": "298ddee2ca0d1dd09bc995505dac5c63",
     "grade": true,
     "grade_id": "cell-a7542313c8cdf4ed",
     "locked": true,
     "points": 0,
     "schema_version": 1,
     "solution": false
    }
   },
   "outputs": [],
   "source": [
    "assert round(T_C - 25.55555555555555, 10) == 0.0"
   ]
  },
  {
   "cell_type": "markdown",
   "metadata": {},
   "source": [
    "## Übung 01.2\n",
    "\n",
    "Sie wurden mit der Entwicklung eines Software-Werkzeuges zur Prüfung der Tragfähigkeit von beantragten Krediten beauftragt. Eine Komponente davon besteht darin, die monatlichen Zinszahlungen für eine Reihe von Szenarien zu berechnen.\n",
    "\n",
    "Die Zinsen für einen Kredit werden zu einem festen Satz über dem „offiziellen Zinssatz“ der Europäischen Zentralbank (EZB) erhoben. Die Zinsen werden jährlich berechnet, und die Zinszahlungen werden gleichmäßig über jeden Monat des Jahres verteilt. Schreiben Sie ein Programm, das die monatlich zu zahlenden Zinsen berechnet mit Variablen für:\n",
    "\n",
    "1. Darlehenskapital (geliehener Betrag),\n",
    "1. Offizieller („nominaler“) (Leit-)Zinssatz der EZB (Prozentsatz, ausgedrückt pro Jahr, lat. „per annum“, abgekürzt „p. a.“),\n",
    "1. Erhöhungswert (als Prozentsatz, ausgedrückt pro Jahr) über den Leitzinssatz der EZB, der zusätzlich durch das Kreditinstitut zur Deckung der Kreditkosten für das Kreditinstitut (z. B. von Bearbeitungsgebühren oder Zinsfestschreibungsdauern) veranschlagt wird.\n",
    "\n",
    "Testen Sie Ihr Programm mit einem Darlehensbetrag von 150.000 €, einem offiziellen EZB-Leitzinssatz von 0,5 % und einem Erhöhungswert von 1,49 % über den offiziellen EZB-Leitzinssatz durch das Kreditinsitut. Verwenden Sie den Variablennamen `monatlicher_zinsbetrag` für den monatlich zu zahlenden Zinsbetrag."
   ]
  },
  {
   "cell_type": "code",
   "execution_count": null,
   "metadata": {
    "deletable": false,
    "nbgrader": {
     "checksum": "c26b7adb39cb9665b26873573b1f0a6c",
     "grade": false,
     "grade_id": "cell-aaab53918bb9627d",
     "locked": false,
     "schema_version": 1,
     "solution": true
    }
   },
   "outputs": [],
   "source": [
    "# Zuweisung von konkreten Kreditparametern an Variablen\n",
    "darlehenskapital = 150000 # in Euro\n",
    "\n",
    "# YOUR CODE HERE\n",
    "raise NotImplementedError()"
   ]
  },
  {
   "cell_type": "code",
   "execution_count": null,
   "metadata": {
    "deletable": false,
    "editable": false,
    "nbgrader": {
     "checksum": "d01c1d6775e975163ba8b456945ee4bc",
     "grade": true,
     "grade_id": "cell-258e3a2c80f6a765",
     "locked": true,
     "points": 0,
     "schema_version": 1,
     "solution": false
    }
   },
   "outputs": [],
   "source": [
    "assert round(monatlicher_zinsbetrag - 248.75, 10) == 0.0"
   ]
  }
 ],
 "metadata": {
  "kernelspec": {
   "display_name": "Python 3",
   "language": "python",
   "name": "python3"
  },
  "language_info": {
   "codemirror_mode": {
    "name": "ipython",
    "version": 3
   },
   "file_extension": ".py",
   "mimetype": "text/x-python",
   "name": "python",
   "nbconvert_exporter": "python",
   "pygments_lexer": "ipython3",
   "version": "3.6.8"
  }
 },
 "nbformat": 4,
 "nbformat_minor": 2
}
